{
 "cells": [
  {
   "cell_type": "markdown",
   "metadata": {},
   "source": [
    "# Notebook 3: Linear Regression (Diabetes)"
   ]
  },
  {
   "cell_type": "markdown",
   "metadata": {},
   "source": [
    "## Learning Goal  \n",
    "The goal of this notebook is to get hands-on experience and intuition about linear regression and regularization. We once again emphasize the difference between fitting and predicting. We will see that it is much more difficult to get good out-of-sample performance on a test set (predicting) than it is to get good in-sample performance on the training set (fitting).\n",
    "\n",
    "## Overview:\n",
    "\n",
    "In Notebook 1: __Section II: Machine Learning is difficult__, we explored linear regression in the context of a prediction problem. In this notebook, we'll formally introduce the notion of regression and see how learning and prediction can be improved by introducing regularization. We will focus mainly on simple applications of linear regression: minimizing the mean-square-error (MSE) on the training data (i.e. in-sample error) and see how well we perform on the test data (i.e. out-of-sample error). \n",
    "\n",
    "\n",
    "As we discussed in Sec. II of the review, there is a fundamental difference between minimizing the in-sample error and minimizing the out-of-sample error. The underlying reason for this is that the training data may not be representative of the full data distribution. From a Bayesian point of view, as [David MacKay](http://www.inference.org.uk/mackay/) likes to repeat: <i>We can't make predictions without making assumptions.</i> Thus, it is sensible to introduce priors that reflect the fact that we are likely to be undersampled (especially in high dimensions).\n",
    "\n",
    "We'll consider ordinary least squares regression problem in which the \"error function\" is defined as the square from the deviation of our linear predictor to the true response. We will supplement this error function with a regularizer that prevents overfitting. From a Bayesian point of view, the regularization can be thought of as a prior on parameters, see Sec VI.\n",
    "Minimizing the combined in-sample error + regularization terms is the same as the <b> Maximum a posteriori probability (MAP)</b> estimate in Bayesian regression (the parameters at which the posterior probability distribution is peaked). Note that in a true Bayesian approach, we should not use the mode of the posterior but the average over all possible choices of parameters weighted by their posterior probability. In practice, this is  often not done (for computational and practical reasons).\n",
    "\n",
    "\n",
    "\n",
    "## Least squares linear regression: \n",
    "\n",
    "Consider data of the form $(y_i,\\mathbf{x}^{(i)})$ where the index $i=1\\ldots n$ runs over the number of examples in the training data and $\\mathbf{x}^{(i)}$ is a $p$-dimensional feature (row) vector. For notational convenience, it is useful to define the $n \\times p$ <b>design matrix</b> $X$ whose rows, $\\textbf{x}^{(1)},\\cdots, \\textbf{x}^{(n)}$, are the examples and columns, $\\mathbf{X}_{:,1},\\cdots, \\mathbf{X}_{:,p}$,  are the measured \"features\" (i.e. feature predictors). We also denote the $n$-dimensional column vector of sample $i$ as $\\mathbf{y}_i$ and the $p$-dimensional column vector of regression parameters $\\mathbf{w}\\in\\mathbb{R}^p$.\n",
    "\n",
    "For ordinary least square regression (no regularization), we minimize the square loss cost function:\n",
    "\n",
    "$$\n",
    "\\underset{\\textbf{w}\\in\\mathbb{R}^p}{\\operatorname{min}} ||\\textbf{Xw}-\\textbf{y}||_2^2 = \\underset{\\textbf{w}\\in\\mathbb{R}^p}{\\operatorname{min}} \\,(\\mathbf{Xw}-\\mathbf{y})^T(\\mathbf{Xw}-\\mathbf{y}),\n",
    "$$\n",
    "\n",
    "or equivalently, in component form,\n",
    "$$\n",
    "\\underset{\\textbf{w}\\in\\mathbb{R}^p}{\\operatorname{min}}   \\sum_{i=1}^n (y_i -\\mathbf{w}\\cdot\\mathbf{x}^{(i)})^2.\n",
    "$$\n",
    "\n",
    "If rank$(\\mathbf{X})=p$, namely, the feature predictors $\\mathbf{X}_{:,1},\\cdots \\mathbf{X}_{:,p}$ are linearly independent, then there exists unique solution to this problem:\n",
    "\n",
    "$$\n",
    "\\hat{\\textbf{w}}= (\\mathbf{X}^T\\mathbf{X})^{-1}\\mathbf{X}^T \\textbf{y}\n",
    "$$"
   ]
  },
  {
   "cell_type": "markdown",
   "metadata": {},
   "source": [
    "### Exercise 1: ###  \n",
    "\n",
    "- This choice of parameters correspond the maximum likehood estimate of which Likelihood function? \n",
    "\n",
    "The function we are minimizing is proportional to the log-likeliood. Inverting this gives (and ignoring normalization factors):\n",
    "\n",
    "\\begin{aligned}\n",
    "-\\log(L) &= ||Xw-y||^2_2 \\\\\n",
    "L &= e^{-||Xw-y||^2_2}\n",
    "\\end{aligned}\n",
    "\n",
    "So the likelihood function is Gaussian.\n",
    "\n",
    "- Derive $\\hat{\\textbf{w}}$ explicitly by solving the least square problem defined above.\n",
    "\n",
    "Let's call the function to minimize $f(w)$. From above, we have:\n",
    "\n",
    "\\begin{aligned}\n",
    "f(w) &= (Xw-y)^T(Xw-y) \\\\\n",
    "&= w^TX^TXw + y^Ty - w^TX^Ty - y^TXw\n",
    "\\end{aligned}\n",
    "\n",
    "Note that since $f(w)$ is a scalar, so is every term in this sum. This implies $w^TX^Ty = y^TXw$ which gives us:\n",
    "\n",
    "\\begin{equation}\n",
    "f(w) = w^TX^TXw + y^Ty - 2y^TXw\n",
    "\\end{equation}\n",
    "   \n",
    "Now to optimize this, we take the derivative:\n",
    "\n",
    "\\begin{gather}\n",
    "\\frac{\\partial f}{\\partial w} = 2w^TX^TX + 0 - 2y^TX = 0 \\\\\n",
    "w^TX^TX = y^TX \\\\\n",
    "X^TXw = X^Ty \\\\\n",
    "\\boxed{w = (X^T X)^{-1}X^T y}\n",
    "\\end{gather}\n",
    "\n",
    "- Is $\\hat{\\textbf{w}}$ a biased or an unbiased estimator? In other words, does it give the correct answer as the number of data points goes to infinity ($n \\rightarrow \\infty$). To answer this question, you may assume i.i.d. (independent, identically distributed) samples $(y_i,\\textbf{x}^{(i)})$.\n",
    "\n",
    "Yes, assuming the data is generated by a linear process, there is not bias in this estimator.\n",
    "\n",
    "- Is $\\hat{\\textbf{w}}$ still well-defined when rank$(\\mathbf{X})<p$? This happens when, for example, $n<p$. \n",
    "\n",
    "In this case, $X^T X$ is $p\\times p$ dimensional but only has $\\text{rank}(X)$ non-zero eigenvalues. So $\\det(X^T X)=0$ and it is not invertible. Therefore, the equation $X^TXw = X^Ty$ will have multiple solutions.\n",
    "\n",
    "- Now imagine the samples are generated in the following manner: $y_i=\\textbf{w}_\\text{true}\\cdot \\textbf{x}^{(i)}+\\epsilon_i$ where $\\epsilon_i\\sim\\mathcal{N}(0,\\sigma^2)$ are i.i.d. Gaussian errors. In statistics, the in-sample risk is defined as\n",
    "$$\n",
    "R(\\hat{\\textbf{w}}, \\textbf{w}_\\text{true})=\\frac{1}{n}\\mathbb{E}[(\\mathbf{X}\\hat{\\textbf{w}}-\\mathbf{X}{\\textbf{w}_\\text{true}})^2],\n",
    "$$\n",
    "where $\\mathbb{E}[\\cdots]$ is taken over all i.i.d pairs $(y_i,\\textbf{x}^{(i)})$ and $\\hat{\\textbf{w}}$ is the least squares solution given above. Assuming that $\\mathbf{X}$ and $\\epsilon_i$ are independent, show that the risk is given by\n",
    "$$\n",
    "R(\\hat{\\textbf{w}}, \\textbf{w}_\\text{true}) = \\sigma^2\\frac{p}{n}\n",
    "$$\n",
    "What's the implication of this for fixed $p$ as $n \\rightarrow \\infty$? How about when $p,n$ scale together?\n",
    "\n",
    "First let's try to simplify what we are taking the expectation value of:\n",
    "\\begin{aligned}\n",
    "X\\hat{w}-Xw_\\text{true} &= X(X^T X)^{-1}X^T y - Xw_\\text{true} \\\\\n",
    "&= X(X^T X)^{-1}X^T(Xw_\\text{true} + \\epsilon) - Xw_\\text{true} \\\\\n",
    "&= Xw_\\text{true} + X(X^T X)^{-1}X^T\\epsilon - Xw_\\text{true} \\\\\n",
    "&= X(X^T X)^{-1}X^T\\epsilon\n",
    "\\end{aligned}\n",
    "\n",
    "So now we can rewrite our risk as:\n",
    "\n",
    "\\begin{aligned}\n",
    "R &= \\mathbb{E}[(X(X^T X)^{-1}X^T\\epsilon)^2]/n \\\\\n",
    "&= \\mathbb{E}[\\epsilon^TX(X^T X)^{-1}X^T X(X^T X)^{-1}X^T\\epsilon]/n \\\\\n",
    "&= \\mathbb{E}[\\epsilon^TX(X^T X)^{-1}X^T\\epsilon]/n \\\\\n",
    "&= \\mathbb{E}[\\epsilon^TP\\epsilon]/n\n",
    "\\end{aligned}\n",
    "\n",
    "Since $\\mathbb{E}[\\epsilon_i\\epsilon_j]=\\delta_{ij}\\sigma^2$, $R$ only depends on the trace of $P$. Note that $P^2=P$ which implies $\\text{Tr}(P) = \\text{Rank}(P) = \\text{Rank}(X) = p$. So we get:\n",
    "\\begin{aligned}\n",
    "R &= \\mathbb{E}[\\epsilon^TP\\epsilon]/n \\\\\n",
    "&= \\sigma^2\\text{Tr}(P)/n \\\\\n",
    "&= \\boxed{\\sigma^2\\frac{p}{n}}\n",
    "\\end{aligned}\n",
    "\n",
    "As $n\\to\\infty$, $R\\to 0$. If $p$ and $n$ scale together, the risk will be proportional to $\\sigma^2$."
   ]
  },
  {
   "cell_type": "markdown",
   "metadata": {},
   "source": [
    "\n",
    "\n",
    "From Exercise 1, it is clear that the uniqueness of the solution is only guaranteed when rank$(\\mathbf{X})>p$. But even so we still may not want to use least squares if $p$ is moderately close to $n$, because its \"risk\" could be quite poor. One way to deal with this is to  <i> regularize</i>.\n",
    "\n",
    "We will be concerned with two classes of regularizers: <b> L2-regularization</b> which is often called <b> Ridge-Regression</b> (or <b>Tikhonov regression</b>) and <b> L1-regularization</b> which goes under the name <b>LASSO</b> (and is closely related to <b>Compressed Sensing</b>).\n",
    "\n",
    "\n",
    "## Ridge Regression\n",
    "In Ridge-Regression, the regularization penalty is taken to be the L2-norm of the parameters\n",
    "$$\n",
    "E_{ridge}= \\lambda ||\\textbf{w}||_2^2 = \\lambda \\textbf{w}^T \\textbf{w}=\\lambda \\sum_{\\gamma=1}^p w_\\gamma w_\\gamma.\n",
    "$$\n",
    "\n",
    "Thus, the model is fit by minimizing the sum of the in-sample error and the regularization term\n",
    "$$\n",
    "\\mathbf{w}_{ridge}(\\lambda)= \\underset{\\textbf{w}\\in\\mathbb{R}^p}{\\operatorname{argmin}} ||\\mathbf{X}\\textbf{w}-\\textbf{y}||_2^2 + \\lambda ||\\textbf{w}||_2^2.\n",
    "$$\n",
    "Notice that the parameter $\\lambda$ controls how much we weigh the fit and regularization term."
   ]
  },
  {
   "cell_type": "markdown",
   "metadata": {},
   "source": [
    "### Exercise 2: ###  \n",
    "- What choice of prior does this correspond to if we are performing a MAP estimate?\n",
    "\n",
    "This corresponds to a prior of (up-to normalization) $e^{-\\lambda ||w||^2_2}$. So the prior is that the norm of the weights are Gaussian distrubuted with mean 0 and variance $1/\\lambda$.\n",
    "\n",
    "- Show that the solution to Ridge regression is given by $\\mathbf{w}_{ridge}= (\\mathbf{X}^T\\mathbf{X}+\\lambda I)^{-1}\\mathbf{X}^T \\textbf{y}$.\n",
    "\n",
    "Let's call the function to minimize $f(w)$. From above, we have:\n",
    "\n",
    "\\begin{aligned}\n",
    "f(w) &= (Xw-y)^T(Xw-y) + \\lambda w^T w \\\\\n",
    "&= w^TX^TXw + y^Ty - w^TX^Ty - y^TXw  + \\lambda w^T w \\\\\n",
    "&= w^TX^TXw + y^Ty - 2y^TXw + \\lambda w^T w\n",
    "\\end{aligned}\n",
    "   \n",
    "Now to optimize this, we take the derivative:\n",
    "\n",
    "\\begin{gather}\n",
    "\\frac{\\partial f}{\\partial w} = 2w^TX^TX + 0 - 2y^TX + 2\\lambda w^T= 0 \\\\\n",
    "w^TX^TX + \\lambda w^T = y^TX \\\\\n",
    "(X^TX + \\lambda I_p)w = X^Ty \\\\\n",
    "\\boxed{w = (X^T X + \\lambda I_p)^{-1}X^T y}\n",
    "\\end{gather}\n",
    "\n",
    "\n",
    "- Express your answer in terms of the Singular Value Decomposition of $\\mathbf{X}$.\n",
    "\n",
    "Let the SVD of $X$ be $X=UDV^T$ with $U$ an $n\\times p$ matrix, $D$ a diagonal $p\\times p$ matrix, and $V$ a $p\\times p$ matrix. Additionally, $U^TU=V^TV=VV^T=I_p$. Substituting this into our solution above, we get:\n",
    "\n",
    "\\begin{aligned}\n",
    "w &= (X^T X + \\lambda I_p)^{-1}X^T y \\\\\n",
    "&= (VDU^TUDV^T + \\lambda VV^T)^{-1}VDU^T y \\\\\n",
    "&= (V(D^2 + \\lambda I_p)V^T)^{-1}VDU^T y \\\\\n",
    "&= V(D^2 + \\lambda I_p)^{-1}V^TVDU^T y \\\\\n",
    "&= \\boxed{V(D^2 + \\lambda I_p)^{-1}DU^T y}\n",
    "\\end{aligned}\n"
   ]
  },
  {
   "cell_type": "markdown",
   "metadata": {},
   "source": [
    "## LASSO ##\n",
    "\n",
    "We will also be interested in the case where the penalty is the L1-norm of the parameters (sum of absolute values of parameters). This is called LASSO.\n",
    "$$\n",
    "E_{LASSO}= \\lambda ||\\mathbf{w}||_1 = \\lambda \\sum_{\\gamma=1}^p |w_\\gamma| .\n",
    "$$\n",
    "In this case, \n",
    "$$\n",
    "\\textbf{w}_{LASSO}(\\lambda)= \\underset{\\textbf{w}\\in\\mathbb{R}^p}{\\operatorname{argmin}} {1 \\over 2n} ||\\mathbf{Xw}-\\mathbf{y}||_2^2 + \\lambda ||\\mathbf{w}||_1.\n",
    "$$\n",
    "Note the prefactor $1/(2n)$ in the loss function is not essential to this formulation. We have chosen this form to be consistent with the Scikit-Learn package in Python. As we discussed in the main text, LASSO tends to give sparse solution. In the following we're going to explore these ideas a little bit more.\n"
   ]
  },
  {
   "cell_type": "markdown",
   "metadata": {},
   "source": [
    "### Exercise 3: ###  \n",
    "- What choice of prior does this correspond to if we are performing a MAP estimate?\n",
    "\n",
    "This corresponds to a prior of $\\exp(-\\lambda||w||_1)$. So the the sum of the weights are distributed as a decaying exponential centered at 0 with width $1/\\lambda$.\n",
    "\n",
    "- In this case, can you derive an analytic expression for $\\mathbf{w}_{LASSO}$? Do you have any ideas about how we might be able to efficiently numerically calculate this? \n",
    "\n",
    "Since the L1 norm cannot be expressed in terms of matrices, our previous methods won't work. Additionally, the L1 norm has a discontinuity in it's derivative which will also interfere with minimizations. Gradient descent. Gradient descent will also have issue with this non-continous derivative. Apparently there are modified gradient descent algorithms that can be used to solve this.\n",
    "\n",
    "- Do you think LASSO and Ridge Regression will give qualitatively different answers? (Consider the limits $\\lambda=0$ and $\\lambda = \\infty$)\n",
    "\n",
    "As $\\lambda\\to 0$, both should approach linear regression and as $\\lambda\\to\\infty$ they should both converge to 0 weights. In between, they should act differently. The L1 norm in LASSO will be more strict in penalizing small parameters and will tend to set them to zero. However, it will also affect large parameters less than ridge, allowing certain features to be weighted more heavily."
   ]
  },
  {
   "cell_type": "markdown",
   "metadata": {},
   "source": [
    "## Numerical Experiments with Ridge Regression and LASSO##\n",
    "\n",
    "We will now perform some numerical experiments with the Diabetes Dataset trying to predict diabetes outcomes one year forward. More information about this data set can be found at <a href=\"https://archive.ics.uci.edu/ml/datasets/Diabetes\">https://archive.ics.uci.edu/ml/datasets/Diabetes</a>. This dataset was described in the famous <a href=\"http://web.stanford.edu/~hastie/Papers/LARS/LeastAngle_2002.pdf\">Least Angle Regression</a> paper by Efron, Hastie, Johnstone, Tibshirani as follows:\n",
    "<blockquote>Ten baseline variables, age, sex, body mass index, average blood pressure, and six blood serum measurements were obtained for each of $n = 442$ diabetes patients, as well as the\n",
    "response of interest, a quantitative measure of disease progression one year after baseline.</blockquote>\n",
    "\n",
    "\n",
    "We start by plotting the weights for each value of $\\lambda$ for Ridge Regression and LASSO. This is called a regularization path. We also compare the in-sample and out-of-sample performance between two regressions by examining the $R^2$ coefficient of determination (for detailed definition see <a href=\"https://en.wikipedia.org/wiki/Coefficient_of_determination\">here</a>). In terms of linear regression, $R^2$ tells us how well the regression function fits the data. The best attainable fit corresponds to $R^2=1$.\n"
   ]
  },
  {
   "cell_type": "code",
   "execution_count": 1,
   "metadata": {},
   "outputs": [
    {
     "name": "stdout",
     "output_type": "stream",
     "text": [
      "Automatically created module for IPython interactive environment\n"
     ]
    }
   ],
   "source": [
    "from __future__ import print_function\n",
    "print(__doc__)\n",
    "\n",
    "%matplotlib inline\n",
    "\n",
    "# This code is modified from plot_cv_diabetes.py in the skit-learn documentation\n",
    "# and plot_ridge_path.py\n",
    "\n",
    "\n",
    "import numpy as np\n",
    "import matplotlib.pyplot as plt\n",
    "import seaborn as sns\n",
    "import pandas as pd\n",
    "import altair as alt\n",
    "\n",
    "from sklearn import datasets, linear_model\n",
    "\n",
    "# Load Training Data set with 200 examples\n",
    "\n",
    "number_examples = 442\n",
    "diabetes = datasets.load_diabetes()\n",
    "X = diabetes.data[:number_examples]\n",
    "y = diabetes.target[:number_examples]\n",
    "\n",
    "# Set up Lasso and Ridge Regression models\n",
    "ridge = linear_model.Ridge()\n",
    "lasso = linear_model.Lasso()\n",
    "net = linear_model.ElasticNet()\n",
    "\n",
    "# Chooose paths\n",
    "alphas = np.logspace(-2, 2, 10)\n",
    "ratios = [0, 1e-2, 1e-1, .25, 0.5, .75, 1-1e-2, 1-1e-1, 1]"
   ]
  },
  {
   "cell_type": "code",
   "execution_count": 2,
   "metadata": {},
   "outputs": [
    {
     "name": "stderr",
     "output_type": "stream",
     "text": [
      "C:\\Users\\Brian\\Anaconda3\\envs\\ML_PY895\\lib\\site-packages\\sklearn\\linear_model\\coordinate_descent.py:475: ConvergenceWarning: Objective did not converge. You might want to increase the number of iterations. Duality gap: 77.57972256540597, tolerance: 6.115920000000001\n",
      "  positive)\n",
      "C:\\Users\\Brian\\Anaconda3\\envs\\ML_PY895\\lib\\site-packages\\sklearn\\linear_model\\coordinate_descent.py:475: ConvergenceWarning: Objective did not converge. You might want to increase the number of iterations. Duality gap: 26285.533188314825, tolerance: 6.115920000000001\n",
      "  positive)\n",
      "C:\\Users\\Brian\\Anaconda3\\envs\\ML_PY895\\lib\\site-packages\\sklearn\\linear_model\\coordinate_descent.py:475: ConvergenceWarning: Objective did not converge. You might want to increase the number of iterations. Duality gap: 77.57972256540597, tolerance: 6.115920000000001\n",
      "  positive)\n",
      "C:\\Users\\Brian\\Anaconda3\\envs\\ML_PY895\\lib\\site-packages\\sklearn\\linear_model\\coordinate_descent.py:475: ConvergenceWarning: Objective did not converge. You might want to increase the number of iterations. Duality gap: 28792.451144904462, tolerance: 6.115920000000001\n",
      "  positive)\n",
      "C:\\Users\\Brian\\Anaconda3\\envs\\ML_PY895\\lib\\site-packages\\sklearn\\linear_model\\coordinate_descent.py:475: ConvergenceWarning: Objective did not converge. You might want to increase the number of iterations. Duality gap: 29898.352120563166, tolerance: 6.115920000000001\n",
      "  positive)\n",
      "C:\\Users\\Brian\\Anaconda3\\envs\\ML_PY895\\lib\\site-packages\\sklearn\\linear_model\\coordinate_descent.py:475: ConvergenceWarning: Objective did not converge. You might want to increase the number of iterations. Duality gap: 30329.295569479, tolerance: 6.115920000000001\n",
      "  positive)\n",
      "C:\\Users\\Brian\\Anaconda3\\envs\\ML_PY895\\lib\\site-packages\\sklearn\\linear_model\\coordinate_descent.py:475: ConvergenceWarning: Objective did not converge. You might want to increase the number of iterations. Duality gap: 30488.915316991734, tolerance: 6.115920000000001\n",
      "  positive)\n",
      "C:\\Users\\Brian\\Anaconda3\\envs\\ML_PY895\\lib\\site-packages\\sklearn\\linear_model\\coordinate_descent.py:475: ConvergenceWarning: Objective did not converge. You might want to increase the number of iterations. Duality gap: 30546.91425244512, tolerance: 6.115920000000001\n",
      "  positive)\n",
      "C:\\Users\\Brian\\Anaconda3\\envs\\ML_PY895\\lib\\site-packages\\sklearn\\linear_model\\coordinate_descent.py:475: ConvergenceWarning: Objective did not converge. You might want to increase the number of iterations. Duality gap: 30567.840983721584, tolerance: 6.115920000000001\n",
      "  positive)\n",
      "C:\\Users\\Brian\\Anaconda3\\envs\\ML_PY895\\lib\\site-packages\\sklearn\\linear_model\\coordinate_descent.py:475: ConvergenceWarning: Objective did not converge. You might want to increase the number of iterations. Duality gap: 30575.372428932173, tolerance: 6.115920000000001\n",
      "  positive)\n",
      "C:\\Users\\Brian\\Anaconda3\\envs\\ML_PY895\\lib\\site-packages\\sklearn\\linear_model\\coordinate_descent.py:475: ConvergenceWarning: Objective did not converge. You might want to increase the number of iterations. Duality gap: 30578.08048300913, tolerance: 6.115920000000001\n",
      "  positive)\n",
      "C:\\Users\\Brian\\Anaconda3\\envs\\ML_PY895\\lib\\site-packages\\sklearn\\linear_model\\coordinate_descent.py:475: ConvergenceWarning: Objective did not converge. You might want to increase the number of iterations. Duality gap: 30579.053887202987, tolerance: 6.115920000000001\n",
      "  positive)\n"
     ]
    }
   ],
   "source": [
    "# To see how well we learn, we partition the dataset into a training set with 150 \n",
    "# as well as a test set with 50 examples. We record their errors respectively.\n",
    "\n",
    "n_samples_train = 20\n",
    "X_train, X_test = X[:n_samples_train], X[n_samples_train:]\n",
    "y_train, y_test = y[:n_samples_train], y[n_samples_train:]\n",
    "train_errors_ridge = list()\n",
    "test_errors_ridge = list()\n",
    "\n",
    "train_errors_lasso = list()\n",
    "test_errors_lasso = list()\n",
    "\n",
    "train_errors_net = list()\n",
    "test_errors_net = list()\n",
    "\n",
    "# Initialize coeffficients for ridge regression and Lasso\n",
    "\n",
    "coefs_ridge = []\n",
    "coefs_lasso = []\n",
    "coefs_net = []\n",
    "\n",
    "for a in alphas:\n",
    "    ridge.set_params(alpha=a)\n",
    "    ridge.fit(X_train, y_train)\n",
    "    coefs_ridge.append(ridge.coef_)\n",
    "    \n",
    "    # Use the coefficient of determination R^2 as the performance of prediction.\n",
    "    train_errors_ridge.append(ridge.score(X_train, y_train))\n",
    "    test_errors_ridge.append(ridge.score(X_test, y_test))\n",
    "    \n",
    "    lasso.set_params(alpha=a)\n",
    "    lasso.fit(X_train, y_train)\n",
    "    coefs_lasso.append(lasso.coef_)\n",
    "    train_errors_lasso.append(lasso.score(X_train, y_train))\n",
    "    test_errors_lasso.append(lasso.score(X_test, y_test))\n",
    "    \n",
    "    for b in ratios:\n",
    "        net.set_params(alpha=a, l1_ratio = b)\n",
    "        net.fit(X_train, y_train)\n",
    "        coefs_net.append(net.coef_)\n",
    "        train_errors_net.append(net.score(X_train, y_train))\n",
    "        test_errors_net.append(net.score(X_test, y_test))\n",
    "    "
   ]
  },
  {
   "cell_type": "code",
   "execution_count": 3,
   "metadata": {},
   "outputs": [
    {
     "data": {
      "image/png": "[encoded data removed]",
      "text/plain": [
       "<Figure size 432x288 with 2 Axes>"
      ]
     },
     "metadata": {
      "needs_background": "light"
     },
     "output_type": "display_data"
    },
    {
     "data": {
      "image/png": "[encoded data removed]",
      "text/plain": [
       "<Figure size 432x288 with 1 Axes>"
      ]
     },
     "metadata": {
      "needs_background": "light"
     },
     "output_type": "display_data"
    }
   ],
   "source": [
    "###############################################################################\n",
    "# Display results\n",
    "\n",
    "# First see how the 10 features we learned scale as we change the regularization parameter\n",
    "plt.subplot(1,2,1)\n",
    "plt.semilogx(alphas, np.abs(coefs_ridge))\n",
    "axes = plt.gca()\n",
    "#ax.set_xscale('log')\n",
    "#ax.set_xlim(ax.get_xlim()[::-1])  # reverse axis\n",
    "plt.xlabel(r'$\\lambda$',fontsize=18)\n",
    "plt.ylabel('$|w_i|$',fontsize=18)\n",
    "plt.title('Ridge')\n",
    "#plt.savefig(\"Ridge_sparsity_scale.pdf.pdf\")\n",
    "\n",
    "\n",
    "\n",
    "plt.subplot(1,2,2)\n",
    "plt.semilogx(alphas, np.abs(coefs_lasso))\n",
    "axes = plt.gca()\n",
    "#ax.set_xscale('log')\n",
    "#ax.set_xlim(ax.get_xlim()[::-1])  # reverse axis\n",
    "plt.xlabel(r'$\\lambda$',fontsize=18)\n",
    "#plt.ylabel('$|\\mathbf{w}|$',fontsize=18)\n",
    "plt.title('LASSO')\n",
    "#plt.savefig(\"LASSO_sparsity_scale.pdf\")\n",
    "plt.show()\n",
    "\n",
    "\n",
    "\n",
    "# Plot our performance on both the training and test data\n",
    "plt.semilogx(alphas, train_errors_ridge, 'b',label='Train (Ridge)')\n",
    "plt.semilogx(alphas, test_errors_ridge, '--b',label='Test (Ridge)')\n",
    "plt.semilogx(alphas, train_errors_lasso, 'g',label='Train (LASSO)')\n",
    "plt.semilogx(alphas, test_errors_lasso, '--g',label='Test (LASSO)')\n",
    "#plt.vlines(alpha_optim, plt.ylim()[0], np.max(test_errors), color='k',\n",
    "#           linewidth=3, label='Optimum on test')\n",
    "plt.legend(loc='upper right')\n",
    "plt.ylim([-0.01, 1.0])\n",
    "plt.xlabel(r'$\\lambda$',fontsize=18)\n",
    "plt.ylabel('Performance')\n",
    "#plt.savefig(\"Ridge_LASSO_sparsity_performance.pdf\")\n",
    "plt.show()"
   ]
  },
  {
   "cell_type": "code",
   "execution_count": 4,
   "metadata": {},
   "outputs": [],
   "source": [
    "df_net = pd.DataFrame(\n",
    "    data={\n",
    "        \"alpha\": np.repeat(alphas, len(ratios)),\n",
    "        \"lambda/delta\": np.tile(ratios, len(alphas)),\n",
    "        \"train\": train_errors_net,\n",
    "        \"test\": test_errors_net\n",
    "    }\n",
    ")"
   ]
  },
  {
   "cell_type": "code",
   "execution_count": 5,
   "metadata": {},
   "outputs": [
    {
     "data": {
      "application/vnd.vegalite.v3+json": {
       "$schema": "https://vega.github.io/schema/vega-lite/v3.4.0.json",
       "config": {
        "mark": {
         "tooltip": null
        },
        "view": {
         "height": 300,
         "width": 400
        }
       },
       "data": {
        "name": "data-1e735d33f7897aa5b58844aca5a76957"
       },
       "datasets": {
        "data-1e735d33f7897aa5b58844aca5a76957": [
         {
          "alpha": 0.01,
          "lambda/delta": 0,
          "test": 0.11978822036252224,
          "train": 0.2510621685025557
         },
         {
          "alpha": 0.01,
          "lambda/delta": 0.01,
          "test": 0.12071848402978291,
          "train": 0.25279912441516506
         },
         {
          "alpha": 0.01,
          "lambda/delta": 0.1,
          "test": 0.12967087989364667,
          "train": 0.2695854826043199
         },
         {
          "alpha": 0.01,
          "lambda/delta": 0.25,
          "test": 0.14732257074500998,
          "train": 0.3031217010364168
         },
         {
          "alpha": 0.01,
          "lambda/delta": 0.5,
          "test": 0.18734794716184144,
          "train": 0.382024288825239
         },
         {
          "alpha": 0.01,
          "lambda/delta": 0.75,
          "test": 0.2457031251215871,
          "train": 0.513106742552894
         },
         {
          "alpha": 0.01,
          "lambda/delta": 0.99,
          "test": 0.06655541954941424,
          "train": 0.7521766261338393
         },
         {
          "alpha": 0.01,
          "lambda/delta": 0.9,
          "test": 0.27078767971737605,
          "train": 0.6387905918990404
         },
         {
          "alpha": 0.01,
          "lambda/delta": 1,
          "test": -0.33640518525064134,
          "train": 0.8181290598301711
         },
         {
          "alpha": 0.027825594022071243,
          "lambda/delta": 0,
          "test": 0.04281395195637572,
          "train": 0.11167624745565541
         },
         {
          "alpha": 0.027825594022071243,
          "lambda/delta": 0.01,
          "test": 0.0433492611126306,
          "train": 0.11262420807525109
         },
         {
          "alpha": 0.027825594022071243,
          "lambda/delta": 0.1,
          "test": 0.048615922669679845,
          "train": 0.12196730491630059
         },
         {
          "alpha": 0.027825594022071243,
          "lambda/delta": 0.25,
          "test": 0.05967273258400773,
          "train": 0.14168321475978873
         },
         {
          "alpha": 0.027825594022071243,
          "lambda/delta": 0.5,
          "test": 0.0889871369445262,
          "train": 0.194657936033251
         },
         {
          "alpha": 0.027825594022071243,
          "lambda/delta": 0.75,
          "test": 0.15185040009535244,
          "train": 0.3125539565719686
         },
         {
          "alpha": 0.027825594022071243,
          "lambda/delta": 0.99,
          "test": 0.1880349903352876,
          "train": 0.7200697367465094
         },
         {
          "alpha": 0.027825594022071243,
          "lambda/delta": 0.9,
          "test": 0.2348819181709293,
          "train": 0.4881532329837097
         },
         {
          "alpha": 0.027825594022071243,
          "lambda/delta": 1,
          "test": -0.05757645450996173,
          "train": 0.7567881464776008
         },
         {
          "alpha": 0.0774263682681127,
          "lambda/delta": 0,
          "test": 0.0039259975606982245,
          "train": 0.04379549685547479
         },
         {
          "alpha": 0.0774263682681127,
          "lambda/delta": 0.01,
          "test": 0.0041476603000412116,
          "train": 0.044180581487814896
         },
         {
          "alpha": 0.0774263682681127,
          "lambda/delta": 0.1,
          "test": 0.006350465459251553,
          "train": 0.048010297400446156
         },
         {
          "alpha": 0.0774263682681127,
          "lambda/delta": 0.25,
          "test": 0.011109641527356717,
          "train": 0.05630275225857628
         },
         {
          "alpha": 0.0774263682681127,
          "lambda/delta": 0.5,
          "test": 0.024705980084714474,
          "train": 0.08013169085024265
         },
         {
          "alpha": 0.0774263682681127,
          "lambda/delta": 0.75,
          "test": 0.060181498232685586,
          "train": 0.1432990632637241
         },
         {
          "alpha": 0.0774263682681127,
          "lambda/delta": 0.99,
          "test": 0.25451842838872285,
          "train": 0.6428789993879751
         },
         {
          "alpha": 0.0774263682681127,
          "lambda/delta": 0.9,
          "test": 0.13360549466829041,
          "train": 0.27945508223553905
         },
         {
          "alpha": 0.0774263682681127,
          "lambda/delta": 1,
          "test": 0.1073756690614117,
          "train": 0.7383311477384631
         },
         {
          "alpha": 0.21544346900318834,
          "lambda/delta": 0,
          "test": -0.012098761464009566,
          "train": 0.01626786932805513
         },
         {
          "alpha": 0.21544346900318834,
          "lambda/delta": 0.01,
          "test": -0.0120270549593533,
          "train": 0.01639286660236483
         },
         {
          "alpha": 0.21544346900318834,
          "lambda/delta": 0.1,
          "test": -0.011311658585402729,
          "train": 0.017640502227152854
         },
         {
          "alpha": 0.21544346900318834,
          "lambda/delta": 0.25,
          "test": -0.00974796545415657,
          "train": 0.020369968278464823
         },
         {
          "alpha": 0.21544346900318834,
          "lambda/delta": 0.5,
          "test": -0.005139324864205319,
          "train": 0.02843403605038408
         },
         {
          "alpha": 0.21544346900318834,
          "lambda/delta": 0.75,
          "test": 0.007710945832324679,
          "train": 0.05160662692379059
         },
         {
          "alpha": 0.21544346900318834,
          "lambda/delta": 0.99,
          "test": 0.20846882739754846,
          "train": 0.46109382500110585
         },
         {
          "alpha": 0.21544346900318834,
          "lambda/delta": 0.9,
          "test": 0.04087798966179246,
          "train": 0.112788935148182
         },
         {
          "alpha": 0.21544346900318834,
          "lambda/delta": 1,
          "test": 0.205955166284326,
          "train": 0.708496118562334
         },
         {
          "alpha": 0.5994842503189409,
          "lambda/delta": 0,
          "test": -0.018163155795084984,
          "train": 0.005917553373811613
         },
         {
          "alpha": 0.5994842503189409,
          "lambda/delta": 0.01,
          "test": -0.018151307596107946,
          "train": 0.00594010831877223
         },
         {
          "alpha": 0.5994842503189409,
          "lambda/delta": 0.1,
          "test": -0.01803292169195858,
          "train": 0.006165517853606528
         },
         {
          "alpha": 0.5994842503189409,
          "lambda/delta": 0.25,
          "test": -0.017801988072394304,
          "train": 0.006664858589005229
         },
         {
          "alpha": 0.5994842503189409,
          "lambda/delta": 0.5,
          "test": -0.017158233655665933,
          "train": 0.008254084511438609
         },
         {
          "alpha": 0.5994842503189409,
          "lambda/delta": 0.75,
          "test": -0.01461997586523256,
          "train": 0.013470566629491865
         },
         {
          "alpha": 0.5994842503189409,
          "lambda/delta": 0.99,
          "test": 0.0759793114400753,
          "train": 0.19474748372573436
         },
         {
          "alpha": 0.5994842503189409,
          "lambda/delta": 0.9,
          "test": -0.007225181051817575,
          "train": 0.02897164353099846
         },
         {
          "alpha": 0.5994842503189409,
          "lambda/delta": 1,
          "test": 0.2738634170162453,
          "train": 0.5733323558463937
         },
         {
          "alpha": 1.6681005372000592,
          "lambda/delta": 0,
          "test": -0.020384255251111982,
          "train": 0.002135993749907472
         },
         {
          "alpha": 1.6681005372000592,
          "lambda/delta": 0.01,
          "test": -0.020394752627816537,
          "train": 0.002120487648661018
         },
         {
          "alpha": 1.6681005372000592,
          "lambda/delta": 0.1,
          "test": -0.020514996538523844,
          "train": 0.001967688793865774
         },
         {
          "alpha": 1.6681005372000592,
          "lambda/delta": 0.25,
          "test": -0.020735158382295227,
          "train": 0.0017193779459180325
         },
         {
          "alpha": 1.6681005372000592,
          "lambda/delta": 0.5,
          "test": -0.020780432510059565,
          "train": 0.0015076784568902601
         },
         {
          "alpha": 1.6681005372000592,
          "lambda/delta": 0.75,
          "test": -0.020604960418273865,
          "train": 0.0017042119930609223
         },
         {
          "alpha": 1.6681005372000592,
          "lambda/delta": 0.99,
          "test": -0.014097408014790204,
          "train": 0.01242210224325302
         },
         {
          "alpha": 1.6681005372000592,
          "lambda/delta": 0.9,
          "test": -0.02015556157115217,
          "train": 0.0024441244013176933
         },
         {
          "alpha": 1.6681005372000592,
          "lambda/delta": 1,
          "test": 0.043490277204975225,
          "train": 0.10763563832483636
         },
         {
          "alpha": 4.6415888336127775,
          "lambda/delta": 0,
          "test": -0.021187968889482933,
          "train": 0.0007688487354163831
         },
         {
          "alpha": 4.6415888336127775,
          "lambda/delta": 0.01,
          "test": -0.021206608072423805,
          "train": 0.0007394995188692022
         },
         {
          "alpha": 4.6415888336127775,
          "lambda/delta": 0.1,
          "test": -0.021388102446851187,
          "train": 0.0004835272068275387
         },
         {
          "alpha": 4.6415888336127775,
          "lambda/delta": 0.25,
          "test": -0.021496480984104505,
          "train": 0.00023647461104570056
         },
         {
          "alpha": 4.6415888336127775,
          "lambda/delta": 0.5,
          "test": -0.021640126374175006,
          "train": 0
         },
         {
          "alpha": 4.6415888336127775,
          "lambda/delta": 0.75,
          "test": -0.021640126374175006,
          "train": 0
         },
         {
          "alpha": 4.6415888336127775,
          "lambda/delta": 0.99,
          "test": -0.021640126374175006,
          "train": 0
         },
         {
          "alpha": 4.6415888336127775,
          "lambda/delta": 0.9,
          "test": -0.021640126374175006,
          "train": 0
         },
         {
          "alpha": 4.6415888336127775,
          "lambda/delta": 1,
          "test": -0.021640126374175006,
          "train": 0
         },
         {
          "alpha": 12.915496650148826,
          "lambda/delta": 0,
          "test": -0.02147752313158313,
          "train": 0.00027646680619586306
         },
         {
          "alpha": 12.915496650148826,
          "lambda/delta": 0.01,
          "test": -0.021499263284102454,
          "train": 0.00024214469025263252
         },
         {
          "alpha": 12.915496650148826,
          "lambda/delta": 0.1,
          "test": -0.021605349581418132,
          "train": 5.7250570220435115e-05
         },
         {
          "alpha": 12.915496650148826,
          "lambda/delta": 0.25,
          "test": -0.021640126374175006,
          "train": 0
         },
         {
          "alpha": 12.915496650148826,
          "lambda/delta": 0.5,
          "test": -0.021640126374175006,
          "train": 0
         },
         {
          "alpha": 12.915496650148826,
          "lambda/delta": 0.75,
          "test": -0.021640126374175006,
          "train": 0
         },
         {
          "alpha": 12.915496650148826,
          "lambda/delta": 0.99,
          "test": -0.021640126374175006,
          "train": 0
         },
         {
          "alpha": 12.915496650148826,
          "lambda/delta": 0.9,
          "test": -0.021640126374175006,
          "train": 0
         },
         {
          "alpha": 12.915496650148826,
          "lambda/delta": 1,
          "test": -0.021640126374175006,
          "train": 0
         },
         {
          "alpha": 35.93813663804626,
          "lambda/delta": 0,
          "test": -0.02158167606168182,
          "train": 9.937729711739784e-05
         },
         {
          "alpha": 35.93813663804626,
          "lambda/delta": 0.01,
          "test": -0.021605397846168328,
          "train": 6.526639759918407e-05
         },
         {
          "alpha": 35.93813663804626,
          "lambda/delta": 0.1,
          "test": -0.021640126374175006,
          "train": 0
         },
         {
          "alpha": 35.93813663804626,
          "lambda/delta": 0.25,
          "test": -0.021640126374175006,
          "train": 0
         },
         {
          "alpha": 35.93813663804626,
          "lambda/delta": 0.5,
          "test": -0.021640126374175006,
          "train": 0
         },
         {
          "alpha": 35.93813663804626,
          "lambda/delta": 0.75,
          "test": -0.021640126374175006,
          "train": 0
         },
         {
          "alpha": 35.93813663804626,
          "lambda/delta": 0.99,
          "test": -0.021640126374175006,
          "train": 0
         },
         {
          "alpha": 35.93813663804626,
          "lambda/delta": 0.9,
          "test": -0.021640126374175006,
          "train": 0
         },
         {
          "alpha": 35.93813663804626,
          "lambda/delta": 1,
          "test": -0.021640126374175006,
          "train": 0
         },
         {
          "alpha": 100,
          "lambda/delta": 0,
          "test": -0.021619118646249103,
          "train": 3.571696857396223e-05
         },
         {
          "alpha": 100,
          "lambda/delta": 0.01,
          "test": -0.021633885509919404,
          "train": 1.0273876971278463e-05
         },
         {
          "alpha": 100,
          "lambda/delta": 0.1,
          "test": -0.021640126374175006,
          "train": 0
         },
         {
          "alpha": 100,
          "lambda/delta": 0.25,
          "test": -0.021640126374175006,
          "train": 0
         },
         {
          "alpha": 100,
          "lambda/delta": 0.5,
          "test": -0.021640126374175006,
          "train": 0
         },
         {
          "alpha": 100,
          "lambda/delta": 0.75,
          "test": -0.021640126374175006,
          "train": 0
         },
         {
          "alpha": 100,
          "lambda/delta": 0.99,
          "test": -0.021640126374175006,
          "train": 0
         },
         {
          "alpha": 100,
          "lambda/delta": 0.9,
          "test": -0.021640126374175006,
          "train": 0
         },
         {
          "alpha": 100,
          "lambda/delta": 1,
          "test": -0.021640126374175006,
          "train": 0
         }
        ]
       },
       "hconcat": [
        {
         "encoding": {
          "color": {
           "field": "lambda/delta",
           "type": "ordinal"
          },
          "x": {
           "axis": {
            "title": "𝜆+𝛿"
           },
           "field": "alpha",
           "scale": {
            "type": "log"
           },
           "type": "quantitative"
          },
          "y": {
           "axis": {
            "title": "Training R²"
           },
           "field": "train",
           "scale": {
            "domain": [
             0,
             1
            ]
           },
           "type": "quantitative"
          }
         },
         "mark": {
          "clip": true,
          "type": "line"
         }
        },
        {
         "encoding": {
          "color": {
           "field": "lambda/delta",
           "legend": {
            "title": "𝜆/(𝜆+𝛿)"
           },
           "scale": {
            "scheme": "purpleorange"
           },
           "type": "ordinal"
          },
          "x": {
           "axis": {
            "title": "𝜆+𝛿"
           },
           "field": "alpha",
           "scale": {
            "type": "log"
           },
           "type": "quantitative"
          },
          "y": {
           "axis": {
            "title": "Test R²"
           },
           "field": "test",
           "scale": {
            "domain": [
             0,
             1
            ]
           },
           "type": "quantitative"
          }
         },
         "mark": {
          "clip": true,
          "type": "line"
         }
        }
       ]
      },
      "image/png": "[encoded data removed]",
      "text/plain": [
       "<VegaLite 3 object>\n",
       "\n",
       "If you see this message, it means the renderer has not been properly enabled\n",
       "for the frontend that you are using. For more information, see\n",
       "https://altair-viz.github.io/user_guide/troubleshooting.html\n"
      ]
     },
     "execution_count": 5,
     "metadata": {},
     "output_type": "execute_result"
    }
   ],
   "source": [
    "p_train_lambda = alt.Chart(df_net).mark_line(clip=True).encode(\n",
    "    alt.X(\"alpha\", scale=alt.Scale(type=\"log\"), axis=alt.Axis(title=chr(0x1D706)+\"+\"+chr(0x1D6FF))),\n",
    "    alt.Y(\"train\", scale=alt.Scale(domain=(0,1)), axis=alt.Axis(title=\"Training R\"+chr(0x00B2))),\n",
    "    alt.Color(\"lambda/delta:O\")\n",
    ")\n",
    "p_test_lambda = alt.Chart(df_net).mark_line(clip=True).encode(\n",
    "    alt.X(\"alpha\", scale=alt.Scale(type=\"log\"), axis=alt.Axis(title=chr(0x1D706)+\"+\"+chr(0x1D6FF))),\n",
    "    alt.Y(\"test\", scale=alt.Scale(domain=(0,1)), axis=alt.Axis(title=\"Test R\"+chr(0x00B2))),\n",
    "    alt.Color(\"lambda/delta:O\", scale=alt.Scale(scheme=\"purpleorange\"), legend=alt.Legend(title=chr(0x1D706)+\"/(\"+chr(0x1D706)+\"+\"+chr(0x1D6FF)+\")\"))\n",
    ")\n",
    "\n",
    "(p_train_lambda | p_test_lambda)"
   ]
  },
  {
   "cell_type": "markdown",
   "metadata": {},
   "source": [
    "### Exercise 4: ###  \n",
    "- What do the points $\\lambda=0$ and $\\lambda=10^5$ correspond to? Is it strange that the weights are not monotonic in $\\lambda$? Why do you think this might be?\n",
    "\n",
    "$\\lambda = 0$ corresponds to standard linear regression as now there's is no penalization for overfitting. When $\\lambda = 10^5$, the penalty is so high that all of the weights must be essentially zero so no fitting is being done. Both Ridge and LASSO display some regions of increasing weights with $\\lambda$ although it is more pronounced in LASSO. This can be from other weights being set to zero quickly with increasing $lambda$, which means there is less of a penalty for other parameters growing. Additionally, with LASSO if two features are highly correlated, one will generally be arbitrarily set to 0 and the entire weight will be forced into the second feature.\n",
    "\n",
    "- Make a similar regularization plot for LASSO?\n",
    "\n",
    "This was already done in the notebook before anything was changed.\n",
    "\n",
    "- What is the qualitative difference between the LASSO path and Ridge Path? Does this agree with your earlier predictions? Can you make some qualitative argument to rationalize this difference?\n",
    "\n",
    "Both show that the weights decrease to 0 as $\\lambda$ increases. Ridge has the weights decay slowly towards zero, however with LASSO the weights almost look like step functions as they are relatively stable until they reach a certain threshold after which they plummet to 0. This makes sense as Ridge will tend to scale both large and small weights equally. LASSO doesn't tend to affect weights until they become on the order of $\\lambda$. After this point, they are very strictly cut off.\n",
    "\n",
    "- How do your answers change when you vary the number of examples and training set size?\n",
    "\n",
    "The regularization paths and performance don't appear to change too much for training set sizes bigger than about 50. Below this, the algorithm has trouble finding any signals and all the weights tend to decay pretty quickly. For LASSO in particular at small training sets, there are sweet spots in $\\lambda$ where the test performance starts to increase and certain weights begin growing with $\\lambda$."
   ]
  },
  {
   "cell_type": "markdown",
   "metadata": {},
   "source": [
    "## A brief note about convexity##\n",
    "\n",
    "In Sec. VI of the review, we briefly discussed convexity. Here's a quick refresher: Recall that a set $C\\subseteq\\mathbb{R}^n$ is called <i> convex </i> if any $x,y\\in C$ and $t\\in [0,1]$, \n",
    "$$\n",
    "tx+(1-t)x \\in C.\n",
    "$$\n",
    "In other words, every line segments joining $x,y$ lies entirely in $C$. \n",
    "\n",
    "A function $f:\\mathbb{R}^n\\rightarrow \\mathbb{R}$ is called <i> convex </i> if its domain dom$(f)$ is a convex set and for any $x,y\\in$dom$(f)$ and $t\\in [0,1]$, \n",
    "\n",
    "$$\n",
    "f(tx+(1-t)y)\\le tf(x)+(1-t)f(y).\n",
    "$$\n",
    "In other words, the function lies below the line segment joining $f(x)$ and $f(y)$. This function $f$ is called <b> strictly convex </b> if this inequality holds strictly for $x\\neq y$ and $t\\in(0,1)$. \n",
    "\n",
    "Why is convexity important?  <b> For convex functions, any local minimizer is a global minimizer</b>. Algorithmically, this means that in the minimization (optimization) procedure, as long as we're \"going down the hill\" and agree to stop when we can't go any further, then we've hit the global minimum. In addition to this, there's a menagerie of beautiful theory regarding convex duality and optimality, which gives us a way of understanding the solutions even before solving the problem itself. We refer interested readers to  <a href=\"http://web.stanford.edu/~boyd/cvxbook/\">Boyd and Vandenberghe book on Convex Optimization</a>.\n",
    "\n",
    "\n",
    "Coming back to our regularization examples, a simple inspection reveals that both LASSO and Ridge regression are convex in $w$. What's more, Ridge is actually a <i> strictly convex </i> problem (assuming $\\lambda>0$) due to presence of L2 penality. In fact, this is always true regardless of $X$ and so the ridge regression solution you worked out (presumably) in Exercise 2 is always well-defined.\n",
    "\n",
    "In contrast, LASSO is not always strictly convex and hence by convexity\n",
    "theory, it need not have a unique solution. The LASSO solution is unique under general conditions, for example, when $X$ has columns in <i> general position </i> (see <a href=\"https://arxiv.org/abs/1206.0313\"> Tibshirani 2013</a>). To mitigate this, one can define a modified problem called the <a href=\"https://web.stanford.edu/~hastie/Papers/B67.2%20(2005)%20301-320%20Zou%20&%20Hastie.pdf\">elastic net</a> such that the function we want to minimize is always strictly convex:\n",
    "\n",
    "$$\n",
    "\\underset{\\mathbf{w}\\in\\mathbb{R}^p}{\\operatorname{min}} ||\\mathbf{Xw}-\\mathbf{y}||_2^2 + \\lambda ||\\mathbf{w}||_1 + \\delta||\\mathbf{w}||_2^2,\n",
    "$$\n",
    "where $\\lambda,\\delta\\ge 0$ are regularization parameters. Now aside from uniqueness of the solution, the elastic net combines some of the desirable properties (e.g. prediction) of ridge regression with the sparsity properties of the LASSO. In the following exercise, you're going to explore a little bit about elastic net."
   ]
  },
  {
   "cell_type": "markdown",
   "metadata": {},
   "source": [
    "### Exercise 4: ###  \n",
    "- Play with the parameters $\\lambda$ and $\\delta$, when would you expect sparse solutions?\n",
    "\n",
    "As $\\delta\\to 0$, the elastic net will converge to LASSO and we should get sparse solutions\n",
    "\n",
    "- Plot the regularization path of elastic net. How does it depend on $\\lambda$ and $\\delta$?\n",
    "\n",
    "This is done above. We can see that the elastic net interpolates between the ridge and lasso results. The elastic net tends to work best closer to lasso, with small variations on $\\delta$ simply changing the location of the peak in performance in the test dataset.\n",
    "\n",
    "- Derive the analytic solution of this elastic net problem. Check your answer by looking at two limiting cases ($\\lambda\\rightarrow 0$ and $\\delta\\rightarrow 0$). Does this agree with what you found previously?\n",
    "\n",
    "This can only be done if we assume $X$ is orthogonal ($X^{-1}=X^T$). First we expand the function we are minimizing:\n",
    "$$\\begin{align}\n",
    "||Xw-y||_2^2 + \\lambda ||w||_1 + \\delta||w||_2^2 &= w^TX^TXw + y^Ty - 2y^TXw + \\lambda ||w||_1 + \\delta||w||_2^2\\\\\n",
    "&= ||w||_2^2 + ||y||_2^2 - 2y^TXw + \\lambda ||w||_1 + \\delta||w||_2^2\n",
    "\\end{align}$$\n",
    "\n",
    "Now, note that we are minimizing with respect to $w$ so the $||y||_2^2$ term can be ignored. Additionally, we can identify $y^TX=w_{\\text{LS}}^T$, the solution to unregularized least square regression. Now our function to minimize looks like:\n",
    "$$\\begin{equation}\n",
    "(1+\\delta)||w||_2^2 - 2w_{\\text{LS}}^T w + \\lambda ||w||_1\n",
    "\\end{equation}$$\n",
    "\n",
    "As each component is independent, we can simply minimize the $i$th component:\n",
    "$$\\begin{equation}\n",
    "(1+\\delta)w_i^2 - 2w_{\\text{LS},i} w_i + \\lambda |w|_i\n",
    "\\end{equation}$$\n",
    "\n",
    "As the $2w_{\\text{LS},i} w_i$ is the only term that breaks the even symmetry, the sign of $w_{\\text{LS},i}$ will determine the sign of $w_i$. For $w_{\\text{LS},i}>0$, $w_i>0$ and vice versa. If $w_{\\text{LS},i}>0$, we can take the derivative and get:\n",
    "$$\\begin{gather}\n",
    "2(1+\\delta)w_i - 2w_{\\text{LS},i} + \\lambda = 0 \\\\\n",
    "w_i = \\frac{w_{\\text{LS},i} - \\frac{1}{2}\\lambda}{1+\\delta}\n",
    "\\end{gather}$$\n",
    "As we assumed $w_i>0$, this solution is only valid for $w_{\\text{LS},i} > \\frac{1}{2}\\lambda$. Outside of this region, the error is $\\geq 0$ so the minimum will be 0 at $w_i=0$. This can be represented compactly as:\n",
    "$$\\begin{equation}\n",
    "w_i = \\frac{(w_{\\text{LS},i} - \\frac{1}{2}\\lambda)_+}{1+\\delta}\n",
    "\\end{equation}$$\n",
    "\n",
    "Similarly, for $w_{\\text{LS},i}>0$, we get:\n",
    "$$\\begin{gather}\n",
    "2(1+\\delta)w_i - 2w_{\\text{LS},i} - \\lambda = 0 \\\\\n",
    "w_i = \\frac{w_{\\text{LS},i} + \\frac{1}{2}\\lambda}{1+\\delta}\n",
    "\\end{gather}$$\n",
    "Once again, this is only valid for $w_i<0$, or $|w_{\\text{LS},i}|>\\frac{1}{2}\\lambda$. Outside of this region, the solution will be $w_i=0$.\n",
    "\n",
    "Both these solutions can be combined as:\n",
    "$$\\begin{equation}\n",
    "\\boxed{w_i = \\frac{\\text{sgn}(w_{\\text{LS},i})(|w_{\\text{LS},i}| - \\frac{1}{2}\\lambda)_+}{1+\\delta}}\n",
    "\\end{equation}$$\n",
    "which converges to the ridge and LASSO solutions for $\\lambda\\to 0$ and $\\delta\\to 0$ respectively."
   ]
  },
  {
   "cell_type": "markdown",
   "metadata": {},
   "source": [
    "### End-of-notebook questions ###  \n",
    "- Can you explain the difference between in-sample and out-of-sample performance? Is out-of-sample error usually larger than in-sample error? Does this depend on regularization? Recall in Exercise 1, we defined the in-sample risk as \n",
    "\n",
    "$$\n",
    "R_{in}(\\hat{\\textbf{w}}, \\textbf{w}_\\text{true})=\\frac{1}{n}\\mathbb{E}[(\\mathbf{X}\\hat{\\textbf{w}}-\\mathbf{X}{\\textbf{w}_\\text{true}})^2],\n",
    "$$ \n",
    "where $\\hat{\\textbf{w}}= (\\mathbf{X}^T\\mathbf{X})^{-1}\\mathbf{X}^T \\textbf{y}$ is the least square solution and $\\textbf{w}_\\text{true}$ is the true parameter vector used to generate all samples. Following the same notation and assumption, now imagine if we're given a new data point $\\textbf{x}_0$ independently drawn from the predictor distribution $\\mathcal{P}$. We can define the out-of-sample risk as \n",
    "$$\n",
    "R_{out} =\\mathbb{E}_{\\textbf{x}^{(0)}\\sim\\mathcal{P}}\\mathbb{E}_{(y_i,\\textbf{x}_i)}[(\\hat{\\textbf{w}}\\cdot \\textbf{x}_0 -\\textbf{w}_\\text{true}\\cdot \\textbf{x}_0)^2],\n",
    "$$\n",
    "with the expectation value taken not only over the training samples $(y_i,\\textbf{x}_i)$ but also over the predictor distribution $\\mathcal{P}$ that generates the unseen sample $\\textbf{x}^{(0)}$. One can actually show that $R_{out}\\ge R_{in}$ under mild assumptions. This makes sense intuitively since it's usually harder to make prediction on unseen samples than to fit the samples given. You can numerically verify this by assuming a predictor distribution, say, $\\mathcal{N}(0,\\Sigma)$.\n",
    "\n",
    "I sample risk is generally larger than in-sample error for any given value of the regularization hyper parameters. Choosing a good regularizer and hyper parameters can result in a better test accuracy than the training accuracy for a bad regularizer. Although the in-sample error bounds the out-of-sample error, it's not true that the parameters that give the best in-sample error correspond to the best out-of-sample error. This can be seen particularly clearly when using LASSO."
   ]
  }
 ],
 "metadata": {
  "kernelspec": {
   "display_name": "Python 3",
   "language": "python",
   "name": "python3"
  },
  "language_info": {
   "codemirror_mode": {
    "name": "ipython",
    "version": 3
   },
   "file_extension": ".py",
   "mimetype": "text/x-python",
   "name": "python",
   "nbconvert_exporter": "python",
   "pygments_lexer": "ipython3",
   "version": "3.7.4"
  }
 },
 "nbformat": 4,
 "nbformat_minor": 4
}
