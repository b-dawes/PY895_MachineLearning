{
 "cells": [
  {
   "cell_type": "markdown",
   "metadata": {},
   "source": [
    "# Notebook 16: Expectation Maximization in practice\n"
   ]
  },
  {
   "cell_type": "markdown",
   "metadata": {},
   "source": [
    "## Learning Goal \n",
    "The goal of this notebook is to gain intuition for Expectation Maximization using a simple example involving coin tosses.\n",
    "\n",
    "## Overview\n",
    "\n",
    "In Section XIV, we introduce Expectation-Maximization (EM) as a practical way to perform maximum likelihood estimation (MLE) even when some of the data is hidden (i.e in the presence of latent or hidden variables). To better understand EM, in this short notebook we'll explore a very simple coin-tossing example adapted from [Do and Batzoglou, Nat. Biotechnol. (2008)](https://www.nature.com/articles/nbt1406). \n",
    "\n",
    "Suppose that we are given two coins A and B with unkown bias $\\theta_A$ and $\\theta_B$, respectively. Our goal is to estimate the bias vector $\\boldsymbol{\\theta}= (\\theta_A, \\theta_B)$ from the outcomes of the following experiment: \n",
    "\n",
    "<blockquote> \n",
    "First choose one coin at random. Then toss the selected coin 10 times independently and record the number of heads observed. Repeat this procedure 5 times.\n",
    "</blockquote>\n",
    "\n",
    "Formally, let $z_i\\in\\{A,B\\}$ be the coin selected in experiment $i$ and $x_i\\in\\{0,1,\\cdots 10\\}$ be the number heads recorded by tossing $z_i$ 10 times. Since we conduct $n=5$ such experiments, we can summarize the outcomes of these 50 tosses by two vectors: $\\boldsymbol{x}=(x_1,x_2\\cdots, x_5)$ and $\\boldsymbol{z}=(z_1,z_2,\\cdots, z_5)$.\n",
    "\n",
    "\n"
   ]
  },
  {
   "cell_type": "markdown",
   "metadata": {},
   "source": [
    "### Exercise 1: What if we know everything?\n",
    "\n",
    " * Consider first the case where we have complete knowledge of the experiment, namely, both $\\boldsymbol{x}$ and $\\boldsymbol{z}$ are known. How would you intuitively estimate the biases of the two coins  $\\boldsymbol{\\theta}= (\\theta_A, \\theta_B)$ ?\n",
    " \n",
    "We would esimate $\\theta_A$ by calculating the percent of heads from all times coin $A$ was flipped and $\\theta_B$ by calculating the percent of heads from all times coin B was flipped."
   ]
  },
  {
   "cell_type": "markdown",
   "metadata": {},
   "source": [
    " * What's the likelihood of observing the complete outcomes of these experiments? In other words, what is $P(\\boldsymbol{x},\\boldsymbol{z}| n,\\boldsymbol{\\theta} )$? You may assume this is a Bernoulli trial. Namely, every time coin A(B) is tossed, we have, with probability $\\theta_A$($\\theta_B$), that the outcome is heads."
   ]
  },
  {
   "cell_type": "markdown",
   "metadata": {},
   "source": [
    "First identify $z_i=0$ with A and $z_i=1$ with B. Then we can do a logistic-like expansion of our probability:\n",
    "$$\\begin{equation}\n",
    "P(x,z|n,\\theta )= \\prod_{i=1}^n P(x_i,z_i|\\theta) = \\prod_{i=1}^n P(x_i,0|\\theta)^{1-z_i}P(x_i,1|\\theta)^{z_i}\n",
    "\\end{equation}$$\n",
    "\n",
    "Now we can use that each of the two probabilities are simply binomial distributions to get:\n",
    "$$\\begin{equation}\n",
    "P(x,z|n,\\theta ) = \\prod_{i=1}^n \\binom{10}{x_i}\\left(\\theta_A^{x_i}(1-\\theta_A)^{10-x_i}\\right)^{1-z_i}\\left(\\theta_B^{x_i}(1-\\theta_B)^{10-x_i}\\right)^{z_i}\n",
    "\\end{equation}$$"
   ]
  },
  {
   "cell_type": "markdown",
   "metadata": {},
   "source": [
    " * What's the Maximum Likelihood Estimator (MLE)? Is this consistent with your intuition? "
   ]
  },
  {
   "cell_type": "markdown",
   "metadata": {},
   "source": [
    "## Comparing MLE and EM\n",
    "\n",
    "To test your answer, let's do some numerics! We will compare the MLE estimates of biases with an Expectation Maximization procedure where we do not know ${\\bf z}$. The following code computes our best guess for the biases using MLE -- assuming we know the identity of the coin used -- and compares it estimates arrived at using an EM procedure where we have no knowledge about which coin was being tossed (though we know the same coin was tossed 10 times)."
   ]
  },
  {
   "cell_type": "code",
   "execution_count": 9,
   "metadata": {},
   "outputs": [
    {
     "name": "stdout",
     "output_type": "stream",
     "text": [
      "At iteration 0, theta_A = 0.835215,  theta_B = 0.600334\n",
      "At iteration 1, theta_A = 0.885395,  theta_B = 0.523235\n",
      "At iteration 2, theta_A = 0.883183,  theta_B = 0.458324\n",
      "At iteration 3, theta_A = 0.878876,  theta_B = 0.390466\n",
      "At iteration 4, theta_A = 0.876364,  theta_B = 0.336429\n",
      "At iteration 5, theta_A = 0.875478,  theta_B = 0.313659\n",
      "At iteration 6, theta_A = 0.875283,  theta_B = 0.308384\n",
      "At iteration 7, theta_A = 0.875249,  theta_B = 0.307437\n",
      "E-M converges at iteration 8\n",
      "RESULT:\n",
      "E-M: theta_A = 0.875249,  theta_B = 0.307437\n",
      "MLE with complete data: theta_A = 0.875000,  theta_B = 0.300000\n"
     ]
    }
   ],
   "source": [
    "import numpy as np\n",
    "from scipy.special import comb\n",
    "import math\n",
    "\n",
    "\n",
    "def compute_likelihood(obs, n, pheads): # No surprise, it's Binomial!!!\n",
    "\n",
    "    likelihood = comb(n, obs, exact=True)*(pheads**obs)*(1.0-pheads)**(n-obs)\n",
    "\n",
    "    return likelihood\n",
    "\n",
    "# generate experiments\n",
    "num_coin_toss = 10 # each experiment contains num_coin_toss tosses\n",
    "num_exp = 5  # we perform 5 such experiments\n",
    "theta_A_true = 0.8 \n",
    "theta_B_true = 0.4\n",
    "coin_choice = np.zeros(num_exp) # initialize: 0 for A and 1 for B\n",
    "head_counts = np.zeros(num_exp)\n",
    "\n",
    "# MLE \n",
    "MLE_A = 0.0\n",
    "MLE_B = 0.0\n",
    "\n",
    "# generate the outcomes of experiment\n",
    "for i in np.arange(num_exp):\n",
    "    \n",
    "    if np.random.randint(2) == 0: # coin A is selected\n",
    "        head_counts[i] = np.random.binomial(num_coin_toss , theta_A_true, 1) # toss coin A num_coin_toss times\n",
    "        MLE_A = MLE_A +  head_counts[i] # add the number of heads observed to total headcounts \n",
    "    \n",
    "    else: # coin B is selected \n",
    "        head_counts[i] = np.random.binomial(num_coin_toss , theta_B_true, 1) # toss coin B num_coin_toss times\n",
    "        coin_choice[i] = 1  # record the selection of coin B during experiment i \n",
    "        MLE_B = MLE_B +  head_counts[i] # add the number of heads observed to total headcounts \n",
    "    \n",
    "tail_counts = num_coin_toss - head_counts\n",
    "\n",
    "\n",
    "# MLE is merely the proportion of heads for each coin toss\n",
    "MLE_A = MLE_A / ((num_exp - np.count_nonzero(coin_choice))*num_coin_toss)\n",
    "MLE_B = MLE_B / (np.count_nonzero(coin_choice)*num_coin_toss)\n",
    "\n",
    "\n",
    "\n",
    "# initialize the pA(heads) and pB(heads), namely, coin biases\n",
    "pA_heads = np.zeros(100); \n",
    "pB_heads = np.zeros(100); \n",
    "\n",
    "pA_heads[0] = 0.60 # initial guess\n",
    "pB_heads[0] = 0.50 # initial guess\n",
    "\n",
    "# E-M begins!\n",
    "epsilon = 0.001   # error threshold\n",
    "j = 0 # iteration counter\n",
    "improvement = float('inf')\n",
    "\n",
    "while (improvement > epsilon):\n",
    "    \n",
    "    expectation_A = np.zeros((num_exp,2), dtype=float) \n",
    "    expectation_B = np.zeros((num_exp,2), dtype=float)\n",
    "    \n",
    "    for i in np.arange(min(len(head_counts),len(tail_counts))):\n",
    "        \n",
    "        eH = head_counts[i]\n",
    "        eT = tail_counts[i]\n",
    "        \n",
    "        # E step:\n",
    "        lA = compute_likelihood(eH, num_coin_toss, pA_heads[j])\n",
    "        lB = compute_likelihood(eH, num_coin_toss, pB_heads[j])\n",
    "        \n",
    "        weightA = lA / (lA + lB)\n",
    "        weightB = lB / (lA + lB)\n",
    "              \n",
    "        expectation_A[i] = weightA*np.array([eH, eT])\n",
    "        expectation_B[i] = weightB*np.array([eH, eT])\n",
    "\n",
    "  \n",
    "    # M step\n",
    "    theta_A = np.sum(expectation_A, axis = 0)[0] / np.sum(expectation_A) \n",
    "    theta_B = np.sum(expectation_B, axis = 0)[0] / np.sum(expectation_B) \n",
    "\n",
    "    print('At iteration %d, theta_A = %2f,  theta_B = %2f' % (j, theta_A, theta_B))\n",
    "    \n",
    "    pA_heads[j+1] = sum(expectation_A)[0] / sum(sum(expectation_A)); \n",
    "    pB_heads[j+1] = sum(expectation_B)[0] / sum(sum(expectation_B)); \n",
    "\n",
    "    improvement = max( abs(np.array([pA_heads[j+1],pB_heads[j+1]]) - np.array([pA_heads[j],pB_heads[j]]) ))\n",
    "    j = j+1\n",
    "\n",
    "# END of E-M, print the outcome\n",
    "\n",
    "print('E-M converges at iteration %d' %j)\n",
    "print('RESULT:')\n",
    "print('E-M: theta_A = %2f,  theta_B = %2f' % (theta_A, theta_B))\n",
    "print('MLE with complete data: theta_A = %2f,  theta_B = %2f' % (MLE_A, MLE_B))"
   ]
  },
  {
   "cell_type": "markdown",
   "metadata": {},
   "source": [
    "### Exercise 2\n",
    "\n",
    " * How fast does EM converge? Is the converged result close to what you'd get from MLE? \n",
    " \n",
    "EM seems to converge after abou 5-10 iterations."
   ]
  },
  {
   "cell_type": "markdown",
   "metadata": {},
   "source": [
    " * Following Exercise 1, what's the objective function we're optimizing in the E-step? Does this function have a *unique global maximum*? \n",
    " "
   ]
  },
  {
   "cell_type": "markdown",
   "metadata": {},
   "source": [
    " * Compare both the results of MLE and EM to the actual bias (i.e. *theta_A_true*  and *theta_B_true* in the snippet above), comment on their performance.\n",
    " "
   ]
  },
  {
   "cell_type": "markdown",
   "metadata": {},
   "source": [
    "## Final remarks: a few practical tricks\n",
    "\n",
    "From Exercise 2 and Section XIV, we know that the E-M algorithm often approximates the MLE even in the presence of latent (hidden variables). Like with most optimization methods for nonconcave functions, E-M only guarantees convergence to a local maximum of the objective function. For this reason, its performance can be boosted by running the EM procedure starting with multiple initial parameters. "
   ]
  },
  {
   "cell_type": "markdown",
   "metadata": {},
   "source": [
    "### Exercise 3\n",
    "\n",
    "* Now instead of having a fixed initial guess of coin biases (i.e. *pA_heads[0]* and *pB_heads[0]* in the snippet), draw these values uniformly at random from $[0,1]$ and run the E-M algorithm. Repeat this twenty times and report what you observed. What's the best initial guess that gives the closest estimate to the true parameters?\n",
    "\n",
    "This is shown below. The best estimate comes from guesses close to the true values ($\\theta_A=0.85, \\theta_B=0.35$) and the worst estimate comes from very wrong guesses ($\\theta_A=0.33, \\theta_B=0.90$)"
   ]
  },
  {
   "cell_type": "code",
   "execution_count": 30,
   "metadata": {},
   "outputs": [],
   "source": [
    "import numpy as np\n",
    "from scipy.special import comb\n",
    "import math\n",
    "\n",
    "\n",
    "def compute_likelihood(obs, n, pheads): # No surprise, it's Binomial!!!\n",
    "\n",
    "    likelihood = comb(n, obs, exact=True)*(pheads**obs)*(1.0-pheads)**(n-obs)\n",
    "\n",
    "    return likelihood\n",
    "\n",
    "# generate experiments\n",
    "num_coin_toss = 10 # each experiment contains num_coin_toss tosses\n",
    "num_exp = 5  # we perform 5 such experiments\n",
    "theta_A_true = 0.8 \n",
    "theta_B_true = 0.4\n",
    "coin_choice = np.zeros(num_exp) # initialize: 0 for A and 1 for B\n",
    "head_counts = np.zeros(num_exp)\n",
    "\n",
    "# MLE \n",
    "MLE_A = 0.0\n",
    "MLE_B = 0.0\n",
    "\n",
    "# generate the outcomes of experiment\n",
    "for i in np.arange(num_exp):\n",
    "    \n",
    "    if np.random.randint(2) == 0: # coin A is selected\n",
    "        head_counts[i] = np.random.binomial(num_coin_toss , theta_A_true, 1) # toss coin A num_coin_toss times\n",
    "        MLE_A = MLE_A +  head_counts[i] # add the number of heads observed to total headcounts \n",
    "    \n",
    "    else: # coin B is selected \n",
    "        head_counts[i] = np.random.binomial(num_coin_toss , theta_B_true, 1) # toss coin B num_coin_toss times\n",
    "        coin_choice[i] = 1  # record the selection of coin B during experiment i \n",
    "        MLE_B = MLE_B +  head_counts[i] # add the number of heads observed to total headcounts \n",
    "    \n",
    "tail_counts = num_coin_toss - head_counts\n",
    "\n",
    "# MLE is merely the proportion of heads for each coin toss\n",
    "MLE_A = MLE_A / ((num_exp - np.count_nonzero(coin_choice))*num_coin_toss)\n",
    "MLE_B = MLE_B / (np.count_nonzero(coin_choice)*num_coin_toss)\n",
    "\n",
    "pA_init = np.zeros(20)\n",
    "pB_init = np.zeros(20)\n",
    "pA_out = np.zeros(20)\n",
    "pB_out = np.zeros(20)\n",
    "\n",
    "for n_init in range(20):\n",
    "    # initialize the pA(heads) and pB(heads), namely, coin biases\n",
    "    pA_heads = np.zeros(100); \n",
    "    pB_heads = np.zeros(100); \n",
    "\n",
    "    pA_init[n_init] = np.random.rand()\n",
    "    pB_init[n_init] = np.random.rand()\n",
    "\n",
    "    pA_heads[0] = pA_init[n_init] # initial guess\n",
    "    pB_heads[0] = pB_init[n_init] # initial guess\n",
    "\n",
    "    # E-M begins!\n",
    "    epsilon = 0.001   # error threshold\n",
    "    j = 0 # iteration counter\n",
    "    improvement = float('inf')\n",
    "\n",
    "    while (improvement > epsilon):\n",
    "\n",
    "        expectation_A = np.zeros((num_exp,2), dtype=float) \n",
    "        expectation_B = np.zeros((num_exp,2), dtype=float)\n",
    "\n",
    "        for i in np.arange(min(len(head_counts),len(tail_counts))):\n",
    "\n",
    "            eH = head_counts[i]\n",
    "            eT = tail_counts[i]\n",
    "\n",
    "            # E step:\n",
    "            lA = compute_likelihood(eH, num_coin_toss, pA_heads[j])\n",
    "            lB = compute_likelihood(eH, num_coin_toss, pB_heads[j])\n",
    "\n",
    "            weightA = lA / (lA + lB)\n",
    "            weightB = lB / (lA + lB)\n",
    "\n",
    "            expectation_A[i] = weightA*np.array([eH, eT])\n",
    "            expectation_B[i] = weightB*np.array([eH, eT])\n",
    "\n",
    "\n",
    "        # M step\n",
    "        theta_A = np.sum(expectation_A, axis = 0)[0] / np.sum(expectation_A) \n",
    "        theta_B = np.sum(expectation_B, axis = 0)[0] / np.sum(expectation_B) \n",
    "\n",
    "        #print('At iteration %d, theta_A = %2f,  theta_B = %2f' % (j, theta_A, theta_B))\n",
    "\n",
    "        pA_heads[j+1] = sum(expectation_A)[0] / sum(sum(expectation_A)); \n",
    "        pB_heads[j+1] = sum(expectation_B)[0] / sum(sum(expectation_B)); \n",
    "\n",
    "        improvement = max( abs(np.array([pA_heads[j+1],pB_heads[j+1]]) - np.array([pA_heads[j],pB_heads[j]]) ))\n",
    "        j = j+1\n",
    "\n",
    "    # END of E-M, print the outcome\n",
    "        \n",
    "        pA_out[n_init] = theta_A\n",
    "        pB_out[n_init] = theta_B\n",
    "\n",
    "#     print('E-M converges at iteration %d' %j)\n",
    "#     print('RESULT:')\n",
    "#     print('E-M: theta_A = %2f,  theta_B = %2f' % (theta_A, theta_B))\n",
    "#     print('MLE with complete data: theta_A = %2f,  theta_B = %2f' % (MLE_A, MLE_B))"
   ]
  },
  {
   "cell_type": "code",
   "execution_count": 31,
   "metadata": {},
   "outputs": [],
   "source": [
    "import pandas as pd\n",
    "df = pd.DataFrame(\n",
    "    {\"pA_init\":pA_init,\n",
    "     \"pB_init\": pB_init,\n",
    "     \"pA_out\": pA_out,\n",
    "     \"pB_out\": pB_out,\n",
    "    })\n",
    "df['acc'] = np.abs(df['pA_out']-theta_A_true)+np.abs(df['pB_out']-theta_B_true)"
   ]
  },
  {
   "cell_type": "code",
   "execution_count": 35,
   "metadata": {},
   "outputs": [
    {
     "name": "stdout",
     "output_type": "stream",
     "text": [
      "Best:\n",
      "pA_init    0.852874\n",
      "pB_init    0.354362\n",
      "pA_out     0.683987\n",
      "pB_out     0.238642\n",
      "acc        0.277371\n",
      "Name: 19, dtype: float64\n",
      "Worst:\n",
      "pA_init    0.332166\n",
      "pB_init    0.900861\n",
      "pA_out     0.238677\n",
      "pB_out     0.684099\n",
      "acc        0.845422\n",
      "Name: 3, dtype: float64\n"
     ]
    }
   ],
   "source": [
    "df =df.sort_values('acc')\n",
    "print(\"Best:\")\n",
    "print(df.iloc[0])\n",
    "print(\"Worst:\")\n",
    "print(df.iloc[-1])"
   ]
  },
  {
   "cell_type": "markdown",
   "metadata": {},
   "source": [
    "* As we discussed in Section X (LinReg), **Maximum a posteriori (MAP)** estimation differs from MLE in that it employs an augmented objective function which incorporates a prior distribution over the quantities we want to estimate, and the prior distribution can be think of as a regularizer for the objective fuction used in MLE. Here we will explore how to extend E-M to MAP estimation. \n",
    "\n",
    "  (1) First derive the MAP estimate for the one-coin-flipping example, namely,\n",
    "  $$\n",
    "  \\hat{{\\theta}}_{MAP}(\\boldsymbol{x}) = \\arg\\max_{\\theta\\in[0,1]} \\log P(\\boldsymbol{x}|n,{\\theta} ) + \\log P({\\theta}),\n",
    "  $$\n",
    "  where \n",
    "  $$P(\\boldsymbol{x}|n,{\\theta}) = \\prod_{i=1}^{10} \\text{Binomial} (x_i|n,\\theta)$$\n",
    "  \n",
    "  $$P({\\theta})=\\mathcal{N}(\\theta|\\mu, \\sigma)$$\n",
    "  \n",
    "  (2) Based on (1), now modify the E-M snippet above to incorporate this prior distribution into the **M-step**. Comment on the performance. For the prior choice, try $P(\\boldsymbol{\\theta})=\\mathcal{N}(\\theta_A|0.83, 1)\\mathcal{N}(\\theta_B|0.37, 1)$."
   ]
  },
  {
   "cell_type": "markdown",
   "metadata": {},
   "source": [
    "Let $f(\\theta)=\\log P(\\boldsymbol{x}|n,{\\theta} ) + \\log P({\\theta})$ (the function we are maximzing). We can write this out fully as:\n",
    "$$\\begin{align}\n",
    "f(\\theta) &= \\sum_i \\log(\\text{Binomial}(x_i|n,\\theta)) + \\log \\mathcal{N}(\\theta |\\mu,\\sigma) \\\\\n",
    "&= \\sum_i \\log \\frac{n}{x_i}\\theta^{x_i}(1-\\theta)^{n-x_i}- \\frac{(\\theta-\\mu)^2}{2\\sigma^2} + C\n",
    "\\end{align}$$\n",
    "\n",
    "where $C$ is some constant with respect to $\\theta$."
   ]
  },
  {
   "cell_type": "code",
   "execution_count": null,
   "metadata": {},
   "outputs": [],
   "source": []
  }
 ],
 "metadata": {
  "kernelspec": {
   "display_name": "Python 3",
   "language": "python",
   "name": "python3"
  },
  "language_info": {
   "codemirror_mode": {
    "name": "ipython",
    "version": 3
   },
   "file_extension": ".py",
   "mimetype": "text/x-python",
   "name": "python",
   "nbconvert_exporter": "python",
   "pygments_lexer": "ipython3",
   "version": "3.7.5"
  }
 },
 "nbformat": 4,
 "nbformat_minor": 4
}
