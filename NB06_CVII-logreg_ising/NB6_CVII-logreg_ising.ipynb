{
 "cells": [
  {
   "cell_type": "markdown",
   "metadata": {},
   "source": [
    "# Notebook 6: Phases of the Ising Model with Logistic Regression\n"
   ]
  },
  {
   "cell_type": "markdown",
   "metadata": {},
   "source": [
    "## Learning Goal\n",
    "The goal of this notebook is to show how one can employ Logistic Regression to classify the states of the 2D Ising model according to their phase. We will discuss overfitting, regularization, and learn how to use the scikit-learn library. We will also examine the role of the optimizer in making predictions.\n",
    "\n",
    "## Overview\n",
    "\n",
    "The energy function of the classical Ising model is given by\n",
    "\n",
    "$$ H = -J\\sum_{\\langle ij\\rangle}S_{i}S_j,\\qquad \\qquad S_j\\in\\{\\pm 1\\} $$\n",
    "\n",
    "where the lattice site indices $i,j$ run over all nearest neighbors of a 2D square lattice, and $J$ is some arbitrary interaction energy scale. We adopt periodic boundary conditions. Onsager proved that this model undergoes a thermal phase transition in the thermodynamic limit from an ordered ferromagnet with all spins aligned to a disordered phase at the critical temperature $T_c/J=2/\\log(1+\\sqrt{2})\\approx 2.26$. For any finite system size, this critical point is expanded to a critical region around $T_c$.\n",
    "\n"
   ]
  },
  {
   "cell_type": "markdown",
   "metadata": {},
   "source": [
    "An interesting question to ask is whether one can train a statistical model to distinguish between the two phases of the Ising model. If successful, this can be used to locate the position of the critical point in more complicated models where an exact analytical solution has so far remained elusive. \n",
    "\n",
    "In other words, given an Ising state, we would like to classify whether it belongs to the ordered or the disordered phase, without any additional information other than the spin configuration itself. This categorical machine learning problem is well suited for logistic regression. Notice that, for the purposes of applying logistic regression, the 2D spin state of the Ising model will be flattened out to a 1D array, so it will not be easy to learn information about the structure of the contiguous ordered 2D domains [see figure below]. Such information can be incorporated using other methods such as multi-layer deep convolutional neural networks (CNNs), see Secs. IX, X and XI of the review and the corresponding notebooks.\n",
    "\n",
    "## The 2D Ising Dataset\n",
    "\n",
    "To this end, we consider the 2D Ising model on a $40\\times 40$ square lattice, and use Monte-Carlo (MC) sampling to prepare $10^4$ states at every fixed temperature $T$ out of a pre-defined set $T\\in[0.25,0.5,\\cdots,4.0]$. Using Onsager's criterion, we can assign a label to each state according to its phase: $0$ if the state is disordered, and $1$ if it is ordered. Our goal is to predict the phase of a sample given the spin configuration.\n",
    "\n",
    "It is well-known that, near the critical temperature $T_c$, the ferromagnetic correlation length diverges which, among other things, leads to a critical slowing down of the MC algorithm. Therefore, we expect identifying the phases to be harder in the critical region. With this in mind, consider the following three types of states: ordered ($T/J<2.0$), critical ($2.0\\leq T/J\\leq 2.5)$ and disordered ($T/J>2.5$). We use both ordered and disordered states to train the logistic regressor and once the supervised training procedure is complete, we evaluate the performance of our classification model on unseen ordered, disordered and critical states. "
   ]
  },
  {
   "cell_type": "code",
   "execution_count": 1,
   "metadata": {},
   "outputs": [],
   "source": [
    "import numpy as np\n",
    "import time\n",
    "\n",
    "import warnings\n",
    "#Comment this to turn on warnings\n",
    "#warnings.filterwarnings('ignore')\n",
    "\n",
    "np.random.seed() # shuffle random seed generator\n",
    "\n",
    "# Ising model parameters\n",
    "L=40 # linear system size\n",
    "J=-1.0 # Ising interaction\n",
    "T=np.linspace(0.25,4.0,16) # set of temperatures\n",
    "T_c=2.26 # Onsager critical temperature in the TD limit"
   ]
  },
  {
   "cell_type": "markdown",
   "metadata": {},
   "source": [
    "# Loading in the Ising dataset\n",
    "We now load in the data which is hosted on Pankaj Mehta's [website](http://physics.bu.edu/~pankajm/MLnotebooks.html)."
   ]
  },
  {
   "cell_type": "code",
   "execution_count": 2,
   "metadata": {},
   "outputs": [],
   "source": [
    "import pickle, os\n",
    "from urllib.request import urlopen \n",
    "\n",
    "# url to data\n",
    "url_main = 'https://physics.bu.edu/~pankajm/ML-Review-Datasets/isingMC/';\n",
    "\n",
    "######### LOAD DATA\n",
    "# The data consists of 16*10000 samples taken in T=np.arange(0.25,4.0001,0.25):\n",
    "data_file_name = \"Ising2DFM_reSample_L40_T=All.pkl\" \n",
    "# The labels are obtained from the following file:\n",
    "label_file_name = \"Ising2DFM_reSample_L40_T=All_labels.pkl\"\n",
    "\n",
    "\n",
    "#DATA\n",
    "data = pickle.load(urlopen(url_main + data_file_name)) # pickle reads the file and returns the Python object (1D array, compressed bits)\n",
    "data = np.unpackbits(data).reshape(-1, 1600) # Decompress array and reshape for convenience\n",
    "data=data.astype('int')\n",
    "data[np.where(data==0)]=-1 # map 0 state to -1 (Ising variable can take values +/-1)\n",
    "\n",
    "#LABELS (convention is 1 for ordered states and 0 for disordered states)\n",
    "labels = pickle.load(urlopen(url_main + label_file_name)) # pickle reads the file and returns the Python object (here just a 1D array with the binary labels)"
   ]
  },
  {
   "cell_type": "markdown",
   "metadata": {},
   "source": [
    "# Constructing the training and the test sets"
   ]
  },
  {
   "cell_type": "code",
   "execution_count": 3,
   "metadata": {},
   "outputs": [
    {
     "name": "stdout",
     "output_type": "stream",
     "text": [
      "X_train shape: (13000, 1600)\n",
      "Y_train shape: (13000,)\n",
      "\n",
      "13000 train samples\n",
      "30000 critical samples\n",
      "117000 test samples\n"
     ]
    }
   ],
   "source": [
    "from sklearn.model_selection import train_test_split\n",
    "\n",
    "###### define ML parameters\n",
    "num_classes=2\n",
    "train_to_test_ratio=0.1 # training samples\n",
    "\n",
    "# divide data into ordered, critical and disordered\n",
    "X_ordered=data[:70000,:]\n",
    "Y_ordered=labels[:70000]\n",
    "\n",
    "X_critical=data[70000:100000,:]\n",
    "Y_critical=labels[70000:100000]\n",
    "\n",
    "X_disordered=data[100000:,:]\n",
    "Y_disordered=labels[100000:]\n",
    "\n",
    "del data,labels\n",
    "\n",
    "# define training and test data sets\n",
    "X=np.concatenate((X_ordered,X_disordered))\n",
    "Y=np.concatenate((Y_ordered,Y_disordered))\n",
    "\n",
    "# pick random data points from ordered and disordered states \n",
    "# to create the training and test sets\n",
    "X_train,X_test,Y_train,Y_test=train_test_split(X,Y,train_size=train_to_test_ratio,test_size=1.0-train_to_test_ratio)\n",
    "\n",
    "# full data set\n",
    "X=np.concatenate((X_critical,X))\n",
    "Y=np.concatenate((Y_critical,Y))\n",
    "\n",
    "print('X_train shape:', X_train.shape)\n",
    "print('Y_train shape:', Y_train.shape)\n",
    "print()\n",
    "print(X_train.shape[0], 'train samples')\n",
    "print(X_critical.shape[0], 'critical samples')\n",
    "print(X_test.shape[0], 'test samples')"
   ]
  },
  {
   "cell_type": "markdown",
   "metadata": {},
   "source": [
    "# Visualizing the states"
   ]
  },
  {
   "cell_type": "code",
   "execution_count": 4,
   "metadata": {},
   "outputs": [
    {
     "data": {
      "image/png": "[encoded data removed]",
      "text/plain": [
       "<Figure size 432x288 with 3 Axes>"
      ]
     },
     "metadata": {
      "needs_background": "light"
     },
     "output_type": "display_data"
    }
   ],
   "source": [
    "##### plot a few Ising states\n",
    "%matplotlib inline\n",
    "import matplotlib.pyplot as plt\n",
    "from mpl_toolkits.axes_grid1 import make_axes_locatable\n",
    "\n",
    "# set colourbar map\n",
    "cmap_args=dict(cmap='plasma_r')\n",
    "\n",
    "# plot states\n",
    "fig, axarr = plt.subplots(nrows=1, ncols=3)\n",
    "\n",
    "axarr[0].imshow(X_ordered[20001].reshape(L,L),**cmap_args)\n",
    "axarr[0].set_title('$\\\\mathrm{ordered\\\\ phase}$',fontsize=16)\n",
    "axarr[0].tick_params(labelsize=16)\n",
    "\n",
    "axarr[1].imshow(X_critical[10001].reshape(L,L),**cmap_args)\n",
    "axarr[1].set_title('$\\\\mathrm{critical\\\\ region}$',fontsize=16)\n",
    "axarr[1].tick_params(labelsize=16)\n",
    "\n",
    "im=axarr[2].imshow(X_disordered[50001].reshape(L,L),**cmap_args)\n",
    "axarr[2].set_title('$\\\\mathrm{disordered\\\\ phase}$',fontsize=16)\n",
    "axarr[2].tick_params(labelsize=16)\n",
    "\n",
    "fig.subplots_adjust(right=2.0)\n",
    "\n",
    "plt.show()"
   ]
  },
  {
   "cell_type": "markdown",
   "metadata": {},
   "source": [
    "## Cost function, optimizers, regularizers, and performance metrics\n",
    "\n",
    "In Sec. VII of the review, we have shown that the cross-entropy is a natural cost function used for training a logistic regressor. As we already mentioned, minimizing it requires the use of numerical toolboxes. Here, we compare the performance of two different optimization routines: a `liblinear` [the default one for scikit's logistic regression], and stochastic gradient descent (SGD) [see Sec. IV of the review for more details].\n",
    "\n",
    "It is important to note that all these methods have built-in regularizers. Indeed, we did not discuss the role of the regularisor explicitly in the context of Logistic Regression extensively, yet this concept is crucial in order to prevent overfitting, and we encourage the interested reader to play with the different regularization types and regularization strengths and compare model performances. \n",
    "\n",
    "Below, we define the accuracy of a classification model on a given data set as the percentage of correctly classified data points. Comparing the accuracy on the training and test data, we obtain a good estimate of the degree of overfitting. Well-trained models do not overfit the data, which is reflected in an almost equal performance on the training and test data sets [recall that the test set consists of samples which the model has not been trained on]. "
   ]
  },
  {
   "cell_type": "markdown",
   "metadata": {},
   "source": [
    "# Run the cell below (this may take several minutes)"
   ]
  },
  {
   "cell_type": "code",
   "execution_count": 5,
   "metadata": {},
   "outputs": [
    {
     "name": "stdout",
     "output_type": "stream",
     "text": [
      "accuracy: train, test, critical\n",
      "liblin: 0.7942, 0.6993, 0.5859\n"
     ]
    },
    {
     "name": "stderr",
     "output_type": "stream",
     "text": [
      "C:\\Users\\Brian\\Anaconda3\\envs\\ML_PY895\\lib\\site-packages\\sklearn\\linear_model\\stochastic_gradient.py:561: ConvergenceWarning: Maximum number of iteration reached before convergence. Consider increasing max_iter to improve the fit.\n",
      "  ConvergenceWarning)\n"
     ]
    },
    {
     "name": "stdout",
     "output_type": "stream",
     "text": [
      "SGD: 0.5485, 0.4837, 0.5414\n",
      "finished computing 1/11 iterations in 14.126980304718018 seconds\n",
      "accuracy: train, test, critical\n",
      "liblin: 0.7942, 0.6993, 0.5859\n"
     ]
    },
    {
     "name": "stderr",
     "output_type": "stream",
     "text": [
      "C:\\Users\\Brian\\Anaconda3\\envs\\ML_PY895\\lib\\site-packages\\sklearn\\linear_model\\stochastic_gradient.py:561: ConvergenceWarning: Maximum number of iteration reached before convergence. Consider increasing max_iter to improve the fit.\n",
      "  ConvergenceWarning)\n"
     ]
    },
    {
     "name": "stdout",
     "output_type": "stream",
     "text": [
      "SGD: 0.5386, 0.4722, 0.5495\n",
      "finished computing 2/11 iterations in 13.884001731872559 seconds\n",
      "accuracy: train, test, critical\n",
      "liblin: 0.7942, 0.6993, 0.5859\n"
     ]
    },
    {
     "name": "stderr",
     "output_type": "stream",
     "text": [
      "C:\\Users\\Brian\\Anaconda3\\envs\\ML_PY895\\lib\\site-packages\\sklearn\\linear_model\\stochastic_gradient.py:561: ConvergenceWarning: Maximum number of iteration reached before convergence. Consider increasing max_iter to improve the fit.\n",
      "  ConvergenceWarning)\n"
     ]
    },
    {
     "name": "stdout",
     "output_type": "stream",
     "text": [
      "SGD: 0.5949, 0.5036, 0.5624\n",
      "finished computing 3/11 iterations in 13.628997802734375 seconds\n",
      "accuracy: train, test, critical\n",
      "liblin: 0.7942, 0.6993, 0.5859\n",
      "SGD: 0.7820, 0.6840, 0.5913\n",
      "finished computing 4/11 iterations in 11.260000467300415 seconds\n",
      "accuracy: train, test, critical\n",
      "liblin: 0.7942, 0.6993, 0.5859\n",
      "SGD: 0.7598, 0.6768, 0.6329\n",
      "finished computing 5/11 iterations in 10.184999465942383 seconds\n",
      "accuracy: train, test, critical\n",
      "liblin: 0.7943, 0.6993, 0.5860\n",
      "SGD: 0.6160, 0.5793, 0.6860\n",
      "finished computing 6/11 iterations in 9.573998928070068 seconds\n",
      "accuracy: train, test, critical\n",
      "liblin: 0.7938, 0.6993, 0.5876\n",
      "SGD: 0.4615, 0.4615, 0.3333\n",
      "finished computing 7/11 iterations in 9.69100046157837 seconds\n",
      "accuracy: train, test, critical\n",
      "liblin: 0.7922, 0.6987, 0.5970\n",
      "SGD: 0.4615, 0.4615, 0.3333\n",
      "finished computing 8/11 iterations in 8.20600175857544 seconds\n",
      "accuracy: train, test, critical\n",
      "liblin: 0.7855, 0.6969, 0.6173\n",
      "SGD: 0.4615, 0.4615, 0.3333\n",
      "finished computing 9/11 iterations in 5.809997081756592 seconds\n",
      "accuracy: train, test, critical\n",
      "liblin: 0.7755, 0.6993, 0.6029\n",
      "SGD: 0.4615, 0.4615, 0.3333\n",
      "finished computing 10/11 iterations in 4.980999946594238 seconds\n",
      "accuracy: train, test, critical\n",
      "liblin: 0.5262, 0.4577, 0.5059\n",
      "SGD: 0.4615, 0.4615, 0.3333\n",
      "finished computing 11/11 iterations in 4.3080034255981445 seconds\n"
     ]
    },
    {
     "data": {
      "image/png": "[encoded data removed]",
      "text/plain": [
       "<Figure size 432x288 with 1 Axes>"
      ]
     },
     "metadata": {
      "needs_background": "light"
     },
     "output_type": "display_data"
    }
   ],
   "source": [
    "###### apply logistic regression\n",
    "from sklearn import linear_model\n",
    "from sklearn.neural_network import MLPClassifier\n",
    "\n",
    "\n",
    "# define regularisation parameter\n",
    "lmbdas=np.logspace(-5,5,11)\n",
    "\n",
    "# preallocate data\n",
    "train_accuracy=np.zeros(lmbdas.shape,np.float64)\n",
    "test_accuracy=np.zeros(lmbdas.shape,np.float64)\n",
    "critical_accuracy=np.zeros(lmbdas.shape,np.float64)\n",
    "\n",
    "train_accuracy_SGD=np.zeros(lmbdas.shape,np.float64)\n",
    "test_accuracy_SGD=np.zeros(lmbdas.shape,np.float64)\n",
    "critical_accuracy_SGD=np.zeros(lmbdas.shape,np.float64)\n",
    "\n",
    "# loop over regularisation strength\n",
    "for i,lmbda in enumerate(lmbdas):\n",
    "    start = time.time()\n",
    "    \n",
    "    # define logistic regressor\n",
    "    logreg=linear_model.LogisticRegression(C=1.0/lmbda,random_state=1,verbose=0,max_iter=1E3,tol=1E-5,\n",
    "                                           solver='liblinear')\n",
    "\n",
    "    # fit training data\n",
    "    logreg.fit(X_train, Y_train)\n",
    "\n",
    "    # check accuracy\n",
    "    train_accuracy[i]=logreg.score(X_train,Y_train)\n",
    "    test_accuracy[i]=logreg.score(X_test,Y_test)\n",
    "    critical_accuracy[i]=logreg.score(X_critical,Y_critical)\n",
    "    \n",
    "    print('accuracy: train, test, critical')\n",
    "    print('liblin: %0.4f, %0.4f, %0.4f' %(train_accuracy[i],test_accuracy[i],critical_accuracy[i]) )\n",
    "\n",
    "    # define SGD-based logistic regression\n",
    "    logreg_SGD = linear_model.SGDClassifier(loss='log', penalty='l2', alpha=lmbda, max_iter=100, \n",
    "                                           shuffle=True, random_state=1, learning_rate='optimal')\n",
    "\n",
    "    # fit training data\n",
    "    logreg_SGD.fit(X_train,Y_train)\n",
    "\n",
    "    # check accuracy\n",
    "    train_accuracy_SGD[i]=logreg_SGD.score(X_train,Y_train)\n",
    "    test_accuracy_SGD[i]=logreg_SGD.score(X_test,Y_test)\n",
    "    critical_accuracy_SGD[i]=logreg_SGD.score(X_critical,Y_critical)\n",
    "    \n",
    "    print('SGD: %0.4f, %0.4f, %0.4f' %(train_accuracy_SGD[i],test_accuracy_SGD[i],critical_accuracy_SGD[i]) )\n",
    "\n",
    "    print('finished computing {}/11 iterations in {} seconds'.format(i+1, time.time()-start))\n",
    "\n",
    "# plot accuracy against regularisation strength\n",
    "plt.semilogx(lmbdas,train_accuracy,'*-b',label='liblinear train')\n",
    "plt.semilogx(lmbdas,test_accuracy,'*-r',label='liblinear test')\n",
    "plt.semilogx(lmbdas,critical_accuracy,'*-g',label='liblinear critical')\n",
    "\n",
    "plt.semilogx(lmbdas,train_accuracy_SGD,'*--b',label='SGD train')\n",
    "plt.semilogx(lmbdas,test_accuracy_SGD,'*--r',label='SGD test')\n",
    "plt.semilogx(lmbdas,critical_accuracy_SGD,'*--g',label='SGD critical')\n",
    "\n",
    "plt.xlabel('$\\\\lambda$')\n",
    "plt.ylabel('$\\\\mathrm{accuracy}$')\n",
    "\n",
    "plt.grid()\n",
    "plt.legend()\n",
    "\n",
    "\n",
    "plt.show()"
   ]
  },
  {
   "cell_type": "markdown",
   "metadata": {},
   "source": [
    "## Interpreting the results\n",
    "\n",
    "The first thing we can read off the figure above is the relative degree of overfitting. This information is contained in the difference in accuracy of our model on the training (blue) and test (red) datasets. Notice that the accuracy difference between test and training sets is significant but not unreasonable, within $10\\%$. Interestingly, which optimizer performs better depends on the value of the regularization strength. Moreover, similar to the Linear Regression examples, we find that there exists a sweet spot for the regularization strength $\\lambda$ that results in optimal performance of the logistic regressor, at about $\\lambda\\sim 10^{-1}$.\n",
    "\n",
    "Due to the physics of the Ising model close to criticality, we expect that predicting the phase of a sample will become much more difficult close to the critical point. We can visually see this by looking at the states in the critical region, (see Fig. above and plot other examples). Notice that it is no longer easy even for a trained human eye to distinguish between the ferromagnetic and the disordered phases close to $T_c$. \n",
    "\n",
    "It is an interesting exercise to compare the training and test accuracies in the ordered and disordered phases to the accuracy of the model near the critical point (i.e. critical states). Recall that the model is not trained on critical states. Notice that the accuracy is about $10\\%$ smaller for the critical states (green curves). \n"
   ]
  },
  {
   "cell_type": "markdown",
   "metadata": {},
   "source": [
    "### Exercises: ###  \n",
    "\n",
    "Note that above I have decreased the training set to only 10% of the data as my poor 5 year old laptop was having trouble dealing with such a large training set. Compared to the models on the full dataset with default parameters, most things behave similarly. The main difference is performance of SGD in the critical region which does strangely well for even high $\\lambda$, even better than the training error.\n",
    "\n",
    "- Change the regularization to $L^1$, or $L^1+L^2$ (i.e. elastic net, see Notebook 2 for more details), and study the performance of the model.\n",
    "\n",
    "See below code. I implemented an L1 regularization for both liblinear and SGD as liblinear does not support elastic nets.\n",
    "\n",
    "SGD didn't change too much except the sweet spot in lambda from before is now no longer just a single flat feature. Potentially zooming in on this region would show some interesting results (which maybe also exist before and just were hidden!) It mostly seemed to compress the results as L1 tends to be a bit more aggressive than L2.\n",
    "\n",
    "For liblinear test and train, not much changed except the compression mentioned before. However, "
   ]
  },
  {
   "cell_type": "code",
   "execution_count": 6,
   "metadata": {},
   "outputs": [
    {
     "name": "stdout",
     "output_type": "stream",
     "text": [
      "accuracy: train, test, critical\n",
      "liblin: 0.7942, 0.6993, 0.5859\n"
     ]
    },
    {
     "name": "stderr",
     "output_type": "stream",
     "text": [
      "C:\\Users\\Brian\\Anaconda3\\envs\\ML_PY895\\lib\\site-packages\\sklearn\\linear_model\\stochastic_gradient.py:561: ConvergenceWarning: Maximum number of iteration reached before convergence. Consider increasing max_iter to improve the fit.\n",
      "  ConvergenceWarning)\n"
     ]
    },
    {
     "name": "stdout",
     "output_type": "stream",
     "text": [
      "SGD: 0.7625, 0.6945, 0.5651\n",
      "finished computing 1/11 iterations in 45.7519965171814 seconds\n",
      "accuracy: train, test, critical\n",
      "liblin: 0.7942, 0.6993, 0.5859\n"
     ]
    },
    {
     "name": "stderr",
     "output_type": "stream",
     "text": [
      "C:\\Users\\Brian\\Anaconda3\\envs\\ML_PY895\\lib\\site-packages\\sklearn\\linear_model\\stochastic_gradient.py:561: ConvergenceWarning: Maximum number of iteration reached before convergence. Consider increasing max_iter to improve the fit.\n",
      "  ConvergenceWarning)\n"
     ]
    },
    {
     "name": "stdout",
     "output_type": "stream",
     "text": [
      "SGD: 0.5415, 0.4747, 0.5544\n",
      "finished computing 2/11 iterations in 44.16999936103821 seconds\n",
      "accuracy: train, test, critical\n",
      "liblin: 0.7942, 0.6993, 0.5858\n"
     ]
    },
    {
     "name": "stderr",
     "output_type": "stream",
     "text": [
      "C:\\Users\\Brian\\Anaconda3\\envs\\ML_PY895\\lib\\site-packages\\sklearn\\linear_model\\stochastic_gradient.py:561: ConvergenceWarning: Maximum number of iteration reached before convergence. Consider increasing max_iter to improve the fit.\n",
      "  ConvergenceWarning)\n"
     ]
    },
    {
     "name": "stdout",
     "output_type": "stream",
     "text": [
      "SGD: 0.7428, 0.6586, 0.5087\n",
      "finished computing 3/11 iterations in 46.92200040817261 seconds\n",
      "accuracy: train, test, critical\n",
      "liblin: 0.7942, 0.6993, 0.5859\n",
      "SGD: 0.5385, 0.5385, 0.6667\n",
      "finished computing 4/11 iterations in 28.610000133514404 seconds\n",
      "accuracy: train, test, critical\n",
      "liblin: 0.7943, 0.6992, 0.5860\n",
      "SGD: 0.5385, 0.5385, 0.6667\n",
      "finished computing 5/11 iterations in 26.37400221824646 seconds\n",
      "accuracy: train, test, critical\n",
      "liblin: 0.7934, 0.6990, 0.5887\n",
      "SGD: 0.5385, 0.5385, 0.6667\n",
      "finished computing 6/11 iterations in 26.3759982585907 seconds\n",
      "accuracy: train, test, critical\n",
      "liblin: 0.7878, 0.6961, 0.6081\n",
      "SGD: 0.4615, 0.4615, 0.3333\n",
      "finished computing 7/11 iterations in 21.2760009765625 seconds\n",
      "accuracy: train, test, critical\n",
      "liblin: 0.5390, 0.5387, 0.6668\n",
      "SGD: 0.4615, 0.4615, 0.3333\n",
      "finished computing 8/11 iterations in 12.209999561309814 seconds\n",
      "accuracy: train, test, critical\n",
      "liblin: 0.5385, 0.5385, 0.6667\n",
      "SGD: 0.4615, 0.4615, 0.3333\n",
      "finished computing 9/11 iterations in 5.279998779296875 seconds\n",
      "accuracy: train, test, critical\n",
      "liblin: 0.5385, 0.5385, 0.6667\n",
      "SGD: 0.4615, 0.4615, 0.3333\n",
      "finished computing 10/11 iterations in 4.155998468399048 seconds\n",
      "accuracy: train, test, critical\n",
      "liblin: 0.5385, 0.5385, 0.6667\n",
      "SGD: 0.4615, 0.4615, 0.3333\n",
      "finished computing 11/11 iterations in 4.067002534866333 seconds\n"
     ]
    },
    {
     "data": {
      "image/png": "[encoded data removed]",
      "text/plain": [
       "<Figure size 432x288 with 1 Axes>"
      ]
     },
     "metadata": {
      "needs_background": "light"
     },
     "output_type": "display_data"
    }
   ],
   "source": [
    "# define regularisation parameter\n",
    "lmbdas=np.logspace(-5,5,11)\n",
    "\n",
    "# preallocate data\n",
    "train_accuracy=np.zeros(lmbdas.shape,np.float64)\n",
    "test_accuracy=np.zeros(lmbdas.shape,np.float64)\n",
    "critical_accuracy=np.zeros(lmbdas.shape,np.float64)\n",
    "\n",
    "train_accuracy_SGD=np.zeros(lmbdas.shape,np.float64)\n",
    "test_accuracy_SGD=np.zeros(lmbdas.shape,np.float64)\n",
    "critical_accuracy_SGD=np.zeros(lmbdas.shape,np.float64)\n",
    "\n",
    "# loop over regularisation strength\n",
    "for i,lmbda in enumerate(lmbdas):\n",
    "    start = time.time()\n",
    "\n",
    "    # define logistic regressor\n",
    "    logreg=linear_model.LogisticRegression(C=1.0/lmbda,random_state=1,verbose=0,max_iter=1E3,tol=1E-5,\n",
    "                                           solver='saga', penalty='l1')\n",
    "\n",
    "    # fit training data\n",
    "    logreg.fit(X_train, Y_train)\n",
    "\n",
    "    # check accuracy\n",
    "    train_accuracy[i]=logreg.score(X_train,Y_train)\n",
    "    test_accuracy[i]=logreg.score(X_test,Y_test)\n",
    "    critical_accuracy[i]=logreg.score(X_critical,Y_critical)\n",
    "    \n",
    "    print('accuracy: train, test, critical')\n",
    "    print('liblin: %0.4f, %0.4f, %0.4f' %(train_accuracy[i],test_accuracy[i],critical_accuracy[i]) )\n",
    "\n",
    "    # define SGD-based logistic regression\n",
    "    logreg_SGD = linear_model.SGDClassifier(loss='log', penalty='l1', alpha=lmbda, max_iter=100, \n",
    "                                           shuffle=True, random_state=1, learning_rate='optimal')\n",
    "\n",
    "    # fit training data\n",
    "    logreg_SGD.fit(X_train,Y_train)\n",
    "\n",
    "    # check accuracy\n",
    "    train_accuracy_SGD[i]=logreg_SGD.score(X_train,Y_train)\n",
    "    test_accuracy_SGD[i]=logreg_SGD.score(X_test,Y_test)\n",
    "    critical_accuracy_SGD[i]=logreg_SGD.score(X_critical,Y_critical)\n",
    "    \n",
    "    print('SGD: %0.4f, %0.4f, %0.4f' %(train_accuracy_SGD[i],test_accuracy_SGD[i],critical_accuracy_SGD[i]) )\n",
    "\n",
    "    print('finished computing {}/11 iterations in {} seconds'.format(i+1, time.time()-start))\n",
    "\n",
    "# plot accuracy against regularisation strength\n",
    "plt.semilogx(lmbdas,train_accuracy,'*-b',label='liblinear train')\n",
    "plt.semilogx(lmbdas,test_accuracy,'*-r',label='liblinear test')\n",
    "plt.semilogx(lmbdas,critical_accuracy,'*-g',label='liblinear critical')\n",
    "\n",
    "plt.semilogx(lmbdas,train_accuracy_SGD,'*--b',label='SGD train')\n",
    "plt.semilogx(lmbdas,test_accuracy_SGD,'*--r',label='SGD test')\n",
    "plt.semilogx(lmbdas,critical_accuracy_SGD,'*--g',label='SGD critical')\n",
    "\n",
    "plt.xlabel('$\\\\lambda$')\n",
    "plt.ylabel('$\\\\mathrm{accuracy}$')\n",
    "\n",
    "plt.grid()\n",
    "plt.legend()\n",
    "\n",
    "\n",
    "plt.show()"
   ]
  },
  {
   "cell_type": "markdown",
   "metadata": {},
   "source": [
    "- Try out different solvers supported by `LogisticRegression()`, [see online scikit documentation](http://scikit-learn.org/stable/modules/generated/sklearn.linear_model.LogisticRegression.html). How do they compare to `liblinear` and `SGD`?\n",
    "\n",
    "See code below. I tested out SAGA (which is supposed to be fast and work well on large datasets) and LBFGS (which is ann approximation to Newton's method which is supposed to work well on small datasets). Both are using default options (L2 regularization).\n",
    "\n",
    "The two perform nearly exactly the same as each other. They are also very similar to liblinear except that they fall off quicker at large $\\lambda$. Additionally, they also display an uptick in the critical data for large $\\lambda$."
   ]
  },
  {
   "cell_type": "code",
   "execution_count": 7,
   "metadata": {},
   "outputs": [
    {
     "name": "stdout",
     "output_type": "stream",
     "text": [
      "accuracy: train, test, critical\n",
      "saga: 0.7942, 0.6993, 0.5859\n",
      "lbfgs: 0.7944, 0.6993, 0.5861\n",
      "finished computing 1/11 iterations in 20.75783395767212 seconds\n",
      "accuracy: train, test, critical\n",
      "saga: 0.7942, 0.6993, 0.5859\n",
      "lbfgs: 0.7943, 0.6993, 0.5860\n",
      "finished computing 2/11 iterations in 20.90099835395813 seconds\n",
      "accuracy: train, test, critical\n",
      "saga: 0.7942, 0.6993, 0.5859\n",
      "lbfgs: 0.7942, 0.6993, 0.5860\n",
      "finished computing 3/11 iterations in 20.17400074005127 seconds\n",
      "accuracy: train, test, critical\n",
      "saga: 0.7942, 0.6993, 0.5859\n",
      "lbfgs: 0.7942, 0.6993, 0.5860\n",
      "finished computing 4/11 iterations in 20.674999713897705 seconds\n",
      "accuracy: train, test, critical\n",
      "saga: 0.7942, 0.6993, 0.5859\n",
      "lbfgs: 0.7942, 0.6993, 0.5859\n",
      "finished computing 5/11 iterations in 21.51400065422058 seconds\n",
      "accuracy: train, test, critical\n",
      "saga: 0.7943, 0.6993, 0.5861\n",
      "lbfgs: 0.7944, 0.6992, 0.5862\n",
      "finished computing 6/11 iterations in 19.790999174118042 seconds\n",
      "accuracy: train, test, critical\n",
      "saga: 0.7935, 0.6993, 0.5878\n",
      "lbfgs: 0.7937, 0.6993, 0.5879\n",
      "finished computing 7/11 iterations in 18.325000047683716 seconds\n",
      "accuracy: train, test, critical\n",
      "saga: 0.7906, 0.6982, 0.5998\n",
      "lbfgs: 0.7908, 0.6982, 0.5997\n",
      "finished computing 8/11 iterations in 15.42800259590149 seconds\n",
      "accuracy: train, test, critical\n",
      "saga: 0.7676, 0.6850, 0.6389\n",
      "lbfgs: 0.7676, 0.6850, 0.6389\n",
      "finished computing 9/11 iterations in 12.339998722076416 seconds\n",
      "accuracy: train, test, critical\n",
      "saga: 0.6457, 0.5996, 0.6932\n",
      "lbfgs: 0.6457, 0.5996, 0.6932\n",
      "finished computing 10/11 iterations in 11.44999885559082 seconds\n",
      "accuracy: train, test, critical\n",
      "saga: 0.5385, 0.5385, 0.6667\n",
      "lbfgs: 0.5385, 0.5385, 0.6667\n",
      "finished computing 11/11 iterations in 11.950002193450928 seconds\n"
     ]
    },
    {
     "data": {
      "image/png": "[encoded data removed]",
      "text/plain": [
       "<Figure size 432x288 with 1 Axes>"
      ]
     },
     "metadata": {
      "needs_background": "light"
     },
     "output_type": "display_data"
    }
   ],
   "source": [
    "# define regularisation parameter\n",
    "lmbdas=np.logspace(-5,5,11)\n",
    "\n",
    "# preallocate data\n",
    "train_accuracy=np.zeros(lmbdas.shape,np.float64)\n",
    "test_accuracy=np.zeros(lmbdas.shape,np.float64)\n",
    "critical_accuracy=np.zeros(lmbdas.shape,np.float64)\n",
    "\n",
    "train_accuracy2=np.zeros(lmbdas.shape,np.float64)\n",
    "test_accuracy2=np.zeros(lmbdas.shape,np.float64)\n",
    "critical_accuracy2=np.zeros(lmbdas.shape,np.float64)\n",
    "\n",
    "# loop over regularisation strength\n",
    "for i,lmbda in enumerate(lmbdas):\n",
    "    start = time.time()\n",
    "    \n",
    "    # define logistic regressor\n",
    "    logreg=linear_model.LogisticRegression(C=1.0/lmbda,random_state=1,verbose=0,max_iter=1E3,tol=1E-5,\n",
    "                                           solver='saga')\n",
    "\n",
    "    # fit training data\n",
    "    logreg.fit(X_train, Y_train)\n",
    "\n",
    "    # check accuracy\n",
    "    train_accuracy[i]=logreg.score(X_train,Y_train)\n",
    "    test_accuracy[i]=logreg.score(X_test,Y_test)\n",
    "    critical_accuracy[i]=logreg.score(X_critical,Y_critical)\n",
    "    \n",
    "    print('accuracy: train, test, critical')\n",
    "    print('saga: %0.4f, %0.4f, %0.4f' %(train_accuracy[i],test_accuracy[i],critical_accuracy[i]) )\n",
    "\n",
    "    # define logistic regressor\n",
    "    logreg2=linear_model.LogisticRegression(C=1.0/lmbda,random_state=1,verbose=0,max_iter=1E3,tol=1E-5,\n",
    "                                           solver='lbfgs')\n",
    "\n",
    "    # fit training data\n",
    "    logreg2.fit(X_train, Y_train)\n",
    "\n",
    "    # check accuracy\n",
    "    train_accuracy2[i]=logreg2.score(X_train,Y_train)\n",
    "    test_accuracy2[i]=logreg2.score(X_test,Y_test)\n",
    "    critical_accuracy2[i]=logreg2.score(X_critical,Y_critical)\n",
    "    \n",
    "    \n",
    "    print('lbfgs: %0.4f, %0.4f, %0.4f' %(train_accuracy2[i],test_accuracy2[i],critical_accuracy2[i]) )\n",
    "\n",
    "    print('finished computing {}/11 iterations in {} seconds'.format(i+1, time.time()-start))\n",
    "\n",
    "# plot accuracy against regularisation strength\n",
    "plt.semilogx(lmbdas,train_accuracy,'*-b',label='saga train')\n",
    "plt.semilogx(lmbdas,test_accuracy,'*-r',label='saga test')\n",
    "plt.semilogx(lmbdas,critical_accuracy,'*-g',label='saga critical')\n",
    "\n",
    "plt.semilogx(lmbdas,train_accuracy2,'*--b',label='lbfgs train')\n",
    "plt.semilogx(lmbdas,test_accuracy2,'*--r',label='lbfgs test')\n",
    "plt.semilogx(lmbdas,critical_accuracy2,'*--g',label='lbfgs critical')\n",
    "\n",
    "plt.xlabel('$\\\\lambda$')\n",
    "plt.ylabel('$\\\\mathrm{accuracy}$')\n",
    "\n",
    "plt.grid()\n",
    "plt.legend()\n",
    "\n",
    "\n",
    "plt.show()"
   ]
  },
  {
   "cell_type": "markdown",
   "metadata": {},
   "source": [
    "- One can expect the regressor to be maximally confused exactly at the critical point. Take the data states for the closest temperature, i.e. $T/J=2.5$, and check the performance of the model. Do we get an accuracy of about $50\\%$? Does this depend on the proportion of ordered to disordered states in the training set?\n",
    "\n",
    "When there is roughly equal ordered and disoredered states in the training data, we get 50% accuracy. However, more disordered states than ordered states causes the accuracy to decrease and vice versa. The actual states should all be disordered. It seems like when the model has less information about a category, it is more likely to place a confusing new data point into that category than the one that is understood better."
   ]
  },
  {
   "cell_type": "code",
   "execution_count": 8,
   "metadata": {},
   "outputs": [
    {
     "name": "stdout",
     "output_type": "stream",
     "text": [
      "accuracy: train, test, critical\n",
      "liblin: 0.9377, 0.9206, 0.3307\n",
      "finished computing 1/10 iterations in 5.129978895187378 seconds\n",
      "accuracy: train, test, critical\n",
      "liblin: 0.8132, 0.6617, 0.3238\n",
      "finished computing 2/10 iterations in 5.375001430511475 seconds\n",
      "accuracy: train, test, critical\n",
      "liblin: 0.6608, 0.4430, 0.4141\n",
      "finished computing 3/10 iterations in 5.950999736785889 seconds\n",
      "accuracy: train, test, critical\n",
      "liblin: 0.7959, 0.6081, 0.5091\n",
      "finished computing 4/10 iterations in 6.762998819351196 seconds\n",
      "accuracy: train, test, critical\n",
      "liblin: 0.8508, 0.6693, 0.5480\n",
      "finished computing 5/10 iterations in 9.560997724533081 seconds\n",
      "accuracy: train, test, critical\n",
      "liblin: 0.8717, 0.7199, 0.5460\n",
      "finished computing 6/10 iterations in 14.455000638961792 seconds\n",
      "accuracy: train, test, critical\n",
      "liblin: 0.9830, 0.7640, 0.5533\n",
      "finished computing 7/10 iterations in 115.98400044441223 seconds\n",
      "accuracy: train, test, critical\n",
      "liblin: 1.0000, 0.8360, 0.5897\n",
      "finished computing 8/10 iterations in 25.5199978351593 seconds\n",
      "accuracy: train, test, critical\n",
      "liblin: 1.0000, 0.9050, 0.6487\n",
      "finished computing 9/10 iterations in 9.072002649307251 seconds\n",
      "accuracy: train, test, critical\n",
      "liblin: 1.0000, 0.9639, 0.6923\n",
      "finished computing 10/10 iterations in 4.945000410079956 seconds\n"
     ]
    },
    {
     "data": {
      "image/png": "[encoded data removed]",
      "text/plain": [
       "<Figure size 432x288 with 1 Axes>"
      ]
     },
     "metadata": {
      "needs_background": "light"
     },
     "output_type": "display_data"
    }
   ],
   "source": [
    "X_supercrit = X_critical[20000:,:]\n",
    "Y_supercrit = Y_critical[20000:]\n",
    "\n",
    "\n",
    "\n",
    "# define regularisation parameter\n",
    "lmbda=1e-2\n",
    "\n",
    "# ratio of ordered in total dataset\n",
    "order_ratios = np.linspace(0.05,0.95,10)\n",
    "\n",
    "# preallocate data\n",
    "train_accuracy=np.zeros(order_ratios.shape,np.float64)\n",
    "test_accuracy=np.zeros(order_ratios.shape,np.float64)\n",
    "critical_accuracy=np.zeros(order_ratios.shape,np.float64)\n",
    "\n",
    "# loop over regularisation strength\n",
    "for i,ord_ratio in enumerate(order_ratios):\n",
    "    start = time.time()\n",
    "    \n",
    "    # define training and test data sets\n",
    "    ord_index = np.random.choice(X_ordered.shape[0], (X_ordered.shape[0]*ord_ratio).astype(int), replace=False)\n",
    "    dis_index = np.random.choice(X_disordered.shape[0], (X_disordered.shape[0]*(1-ord_ratio)).astype(int), replace=False)\n",
    "    X=np.concatenate((X_ordered[ord_index,:],X_disordered[dis_index,:]))\n",
    "    Y=np.concatenate((Y_ordered[ord_index],Y_disordered[dis_index]))\n",
    "\n",
    "    X_train,X_test,Y_train,Y_test=train_test_split(X,Y,train_size=train_to_test_ratio,test_size=1.0-train_to_test_ratio)\n",
    "    \n",
    "    # define logistic regressor\n",
    "    logreg=linear_model.LogisticRegression(C=1.0/lmbda,random_state=1,verbose=0,max_iter=1E3,tol=1E-5,\n",
    "                                           solver='liblinear')\n",
    "\n",
    "    # fit training data\n",
    "    logreg.fit(X_train, Y_train)\n",
    "\n",
    "    # check accuracy\n",
    "    train_accuracy[i]=logreg.score(X_train,Y_train)\n",
    "    test_accuracy[i]=logreg.score(X_test,Y_test)\n",
    "    critical_accuracy[i]=logreg.score(X_critical,Y_critical)\n",
    "    \n",
    "    print('accuracy: train, test, critical')\n",
    "    print('liblin: %0.4f, %0.4f, %0.4f' %(train_accuracy[i],test_accuracy[i],critical_accuracy[i]) )\n",
    "\n",
    "    print('finished computing {}/10 iterations in {} seconds'.format(i+1, time.time()-start))\n",
    "\n",
    "# plot accuracy against regularisation strength\n",
    "plt.plot(order_ratios,train_accuracy,'*-b',label='liblinear train')\n",
    "plt.plot(order_ratios,test_accuracy,'*-r',label='liblinear test')\n",
    "plt.plot(order_ratios,critical_accuracy,'*-g',label='liblinear critical')\n",
    "\n",
    "plt.xlabel('Ratio of ordered training data')\n",
    "plt.ylabel('$\\\\mathrm{accuracy}$')\n",
    "\n",
    "plt.grid()\n",
    "plt.legend()\n",
    "\n",
    "\n",
    "plt.show()"
   ]
  },
  {
   "cell_type": "markdown",
   "metadata": {},
   "source": [
    "- Take the regressor trained on the square lattice Ising model, and try to predict the phases on a different lattice geometry (e.g. triangular or honeycomb). What accuracy do you obtain? Can you roughly locate the critical point in this new model? Note that this requires you to generate your own dataset using Monte-Carlo sampling.\n"
   ]
  }
 ],
 "metadata": {
  "anaconda-cloud": {},
  "kernelspec": {
   "display_name": "Python 3",
   "language": "python",
   "name": "python3"
  },
  "language_info": {
   "codemirror_mode": {
    "name": "ipython",
    "version": 3
   },
   "file_extension": ".py",
   "mimetype": "text/x-python",
   "name": "python",
   "nbconvert_exporter": "python",
   "pygments_lexer": "ipython3",
   "version": "3.7.4"
  }
 },
 "nbformat": 4,
 "nbformat_minor": 4
}
